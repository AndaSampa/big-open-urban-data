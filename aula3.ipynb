{
 "cells": [
  {
   "cell_type": "markdown",
   "id": "cc7f8c09",
   "metadata": {
    "slideshow": {
     "slide_type": "slide"
    }
   },
   "source": [
    "# Aula 3: A Natureza espacial do dado\n",
    "\n",
    "> A grande maioria dos dados para urbanismo tem uma natureza espacial"
   ]
  },
  {
   "cell_type": "markdown",
   "id": "2720c3a1",
   "metadata": {
    "slideshow": {
     "slide_type": "slide"
    }
   },
   "source": [
    "## O que é o espaço?\n",
    "\n",
    "* Tema em aberto para a Geografia _https://www.revistas.usp.br/geousp/article/download/74066/77708/0_\n",
    "* Tema em aberto para Física https://www.britannica.com/topic/philosophy-of-physics/The-general-theory-of-relativity"
   ]
  },
  {
   "cell_type": "markdown",
   "id": "7c15f8c9",
   "metadata": {
    "slideshow": {
     "slide_type": "slide"
    }
   },
   "source": [
    "## Qual a forma da Terra?\n",
    "\n",
    "\n",
    "* Indicação de documentário, a Terra é Plana (mas saiu da NetFlix)\n",
    "* https://www.imdb.com/video/vi1061992985/?playlistId=tt8132700&ref_=tt_pr_ov_vi\n",
    "\n",
    "_https://www.g-red.eu/geoid/geoidViewer.html_"
   ]
  },
  {
   "cell_type": "markdown",
   "id": "a83a2c08",
   "metadata": {
    "slideshow": {
     "slide_type": "slide"
    }
   },
   "source": [
    "## Por que medimos a Terra?\n",
    "\n",
    "* Geo (Terra) + metria (medida)\n",
    "* Terrenos ao redor do Nilo\n",
    "* Cobrar imposto\n",
    "* Isso lembra alguma coisa? LiDAR 3D na próxima aula\n",
    "* Assunto interessante: Terra, agrigultura, propriedade, herança e patriarcado.\n",
    "* Origem das palavras estatística e Cadastro (https://en.wiktionary.org/wiki/cadastre#French)\n"
   ]
  },
  {
   "cell_type": "markdown",
   "id": "4e317425",
   "metadata": {
    "slideshow": {
     "slide_type": "slide"
    }
   },
   "source": [
    "## Mas não é apenas sobre cobrar imposto\n",
    "\n",
    "* Livro: O Mapa Fantasma: Como a luta de dois homens contra o cólera mudou o destino de nossas\n",
    "metrópoles (2008)\n",
    "* _https://www.amazon.com.br/mapa-fantasma-homens-destino-metr%C3%B3poles/dp/8537800554_ \n",
    "* Pra quem não for ler o livro: https://www.youtube.com/watch?v=5lGEbk9UCKk ou https://www.youtube.com/watch?v=lNjrAXGRda4\n",
    "\n",
    "> ALERTA DE SPOILER - Contexto histórico: Higienismo, Positivismo, Eugenia\n"
   ]
  },
  {
   "cell_type": "markdown",
   "id": "4c10265c",
   "metadata": {
    "slideshow": {
     "slide_type": "slide"
    }
   },
   "source": [
    "## Apenas uma curiosidade imagética\n",
    "\n",
    "_https://en.wikipedia.org/wiki/The_Blue_Marble#/media/File:The_Earth_seen_from_Apollo_17.jpg_\n",
    "    \n",
    "* Primeira (_na verdade não foi a primeira, mas a que ficou mais conhecida_) imagem colorida da Terra inteira vista do céu, Blue Marble, 1972\n",
    "* Será que influenciou a forma como vemos a Terra?\n",
    "\n",
    "_https://en.wikipedia.org/wiki/Timeline_of_first_images_of_Earth_from_space_\n"
   ]
  },
  {
   "cell_type": "markdown",
   "id": "8167c462",
   "metadata": {
    "slideshow": {
     "slide_type": "slide"
    }
   },
   "source": [
    "## Mudanças morfológicas por imagens de satélites\n",
    "\n",
    "* Ferramenta espaço-temporal\n",
    "* Lançada pelo Google em Abril/2021\n",
    "* [Evolução da mancha urbana na cidade de São Paulo](https://earth.google.com/web/@-23.60975113,-46.39533399,884.84314066a,127494.03319582d,35y,1.75213638h,38.40559901t,0r/data=CjISMBIgNTQ0MGExNzMxYzI1MTFlYTk0NDM4YmI2ODk0NDUyOTciDG1haW5Ob1JhbmRvbQ)\n"
   ]
  },
  {
   "cell_type": "markdown",
   "id": "09580efa",
   "metadata": {
    "slideshow": {
     "slide_type": "slide"
    }
   },
   "source": [
    "## Projeções cartográficas\n",
    "\n",
    "> São técnicas para projetar a superfície da Terra, admitida como esférica ou elipsoidal, em um plano\n",
    "\n",
    "* Esferas, elipsoides e geóides não são superfícies desenvolvíveis (_https://en.wikipedia.org/wiki/Developable_surface_)\n",
    "* Algumas propriedades do modelo são preservadas:\n",
    "    * forma, direção, área, distância, rota mais curta\n",
    "\n",
    "https://www.geogebra.org/m/btfr5zww\n",
    "\n",
    "[_https://en.wikipedia.org/wiki/Map_projection_](https://en.wikipedia.org/wiki/Map_projection)"
   ]
  },
  {
   "cell_type": "markdown",
   "id": "cd2f06f7",
   "metadata": {
    "slideshow": {
     "slide_type": "slide"
    }
   },
   "source": [
    "## UTM\n",
    "\n",
    "* Universal Transversa de Mercator\n",
    "* Projeção Cilíndrica com o Eixo no Plano do Equador\n",
    "* Minimiza todas as perdas\n",
    "* Importância: Sistema de coordenadas ortogonal\n",
    "* https://www.geogebra.org/m/ttv5emkh\n",
    "* Aula Sistema UTM _https://edisciplinas.usp.br/pluginfile.php/4530334/mod_resource/content/10/PTR5003%20-%20Proje%C3%A7%C3%A3o%20UTM%20v2019.pdf?fbclid=IwAR3sIMz8GLIWCDjz16rU4aee3Zai6sfQQTL4G-rEYPodGhmaCgSQrcLPQ-I_"
   ]
  },
  {
   "cell_type": "markdown",
   "id": "34a78924",
   "metadata": {
    "slideshow": {
     "slide_type": "slide"
    }
   },
   "source": [
    "## Mais material online\n",
    "\n",
    "* https://projections.mgis.psu.edu/\n",
    "* https://projectionwizard.org/\n",
    "\n"
   ]
  },
  {
   "cell_type": "markdown",
   "id": "56c01064",
   "metadata": {
    "slideshow": {
     "slide_type": "slide"
    }
   },
   "source": [
    "## Anamorfose cartográfica\n",
    "\n",
    "> Todo mapa é político\n",
    "\n",
    "_https://educa.ibge.gov.br/professores/educa-recursos/20815-anamorfose.html_"
   ]
  },
  {
   "cell_type": "markdown",
   "id": "bd86da85",
   "metadata": {
    "slideshow": {
     "slide_type": "slide"
    }
   },
   "source": [
    "## Vamos praticar?\n",
    "\n",
    "* QGis? https://www.qgis.org/pt_BR/site/index.html\n",
    "* GeoSampa (pontos, vetores, rasters, dimensões (Atributos))\n",
    "* Painel do Cadastro de São Paulo (Dash do IPTU)\n",
    "  * https://dashiptu.centrodametropole.fflch.usp.br/"
   ]
  },
  {
   "cell_type": "markdown",
   "id": "2dc30dca",
   "metadata": {
    "slideshow": {
     "slide_type": "slide"
    }
   },
   "source": [
    "## Para saber mais sobre Qgis\n",
    "\n",
    "* Pratique sozinho em um problema, e quando tiver dúvidas:\n",
    "  * google.com\n",
    "  * https://www.youtube.com/c/KlasKarlsson\n",
    "  * Chama o professor por email feromes@usp.br"
   ]
  },
  {
   "cell_type": "markdown",
   "id": "1e237421",
   "metadata": {
    "slideshow": {
     "slide_type": "slide"
    }
   },
   "source": [
    "## E o Python?\n",
    "\n",
    "* https://www.kaggle.com/code/andasampa/watershed-delineation-from-dtm"
   ]
  },
  {
   "cell_type": "code",
   "execution_count": 1,
   "id": "509fdea7",
   "metadata": {},
   "outputs": [
    {
     "name": "stderr",
     "output_type": "stream",
     "text": [
      "/home/feromes/miniconda3/envs/geo/lib/python3.8/site-packages/geopandas/_compat.py:111: UserWarning: The Shapely GEOS version (3.8.0-CAPI-1.13.1 ) is incompatible with the GEOS version PyGEOS was compiled with (3.10.1-CAPI-1.16.0). Conversions between both will be slow.\n",
      "  warnings.warn(\n"
     ]
    }
   ],
   "source": [
    "import geopandas as gpd"
   ]
  }
 ],
 "metadata": {
  "celltoolbar": "Slideshow",
  "kernelspec": {
   "display_name": "Python 3 (ipykernel)",
   "language": "python",
   "name": "python3"
  },
  "language_info": {
   "codemirror_mode": {
    "name": "ipython",
    "version": 3
   },
   "file_extension": ".py",
   "mimetype": "text/x-python",
   "name": "python",
   "nbconvert_exporter": "python",
   "pygments_lexer": "ipython3",
   "version": "3.8.5"
  },
  "vscode": {
   "interpreter": {
    "hash": "9cedc55b3cbf3c6d99ff990673a8ddd4523edd6f7760ad30a6f7807a45845135"
   }
  }
 },
 "nbformat": 4,
 "nbformat_minor": 5
}
