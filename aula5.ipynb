{
 "cells": [
  {
   "cell_type": "markdown",
   "metadata": {},
   "source": [
    "# APIs e Redes (Gephi)"
   ]
  },
  {
   "cell_type": "markdown",
   "metadata": {},
   "source": [
    "* https://abraji.org.br/help-desk/veja-como-acessar-as-apis-de-dados-da-prefeitura-de-sao-paulo\n",
    "* https://abraji.org.br/\n",
    "* https://github.com/abraji\n",
    "* https://apilib.prefeitura.sp.gov.br/store/"
   ]
  },
  {
   "cell_type": "markdown",
   "metadata": {},
   "source": [
    "* https://gephi.org/"
   ]
  },
  {
   "cell_type": "markdown",
   "metadata": {},
   "source": [
    "* http://mobilidadesegura.prefeitura.sp.gov.br\n"
   ]
  },
  {
   "cell_type": "markdown",
   "metadata": {},
   "source": []
  }
 ],
 "metadata": {
  "language_info": {
   "name": "python"
  },
  "orig_nbformat": 4
 },
 "nbformat": 4,
 "nbformat_minor": 2
}
