{
 "cells": [
  {
   "cell_type": "markdown",
   "metadata": {},
   "source": [
    "# APIs e Dados Abertos"
   ]
  },
  {
   "cell_type": "markdown",
   "metadata": {},
   "source": [
    "* API (Application Programming Interface)\n",
    "\n",
    "> \"É como se fossem *contratos* que determinados programas fazem para serem utilizados por outros programas e aplicações\""
   ]
  },
  {
   "cell_type": "markdown",
   "metadata": {},
   "source": [
    "# Contexto de Dados Abertos\n",
    "\n",
    "* Muito utilizado por empresas para \"abrir\" seus dados. Estratégia?\n",
    "  * https://developers.strava.com/\n",
    "  * https://developer.twitter.com/en\n",
    "  * https://onemilliontweetmap.com\n"
   ]
  },
  {
   "cell_type": "markdown",
   "metadata": {},
   "source": [
    "# Governos digitais\n",
    "\n",
    "* PIX (https://github.com/bacen/pix-api)\n",
    "* E o CEP hein?!\n",
    "  * Então :o --> https://www.gov.br/conecta/catalogo/apis/cep-codigo-de-enderecamento-postal\n",
    "* https://apilib.prefeitura.sp.gov.br/store/\n",
    "* GeoSampa"
   ]
  },
  {
   "cell_type": "markdown",
   "metadata": {},
   "source": [
    "## Duvida ...\n",
    "\n",
    "> Será que é democrático o Estado \"prestar serviço\" e disponibilizar recursos de acesso a dados por APIs? E o Estado Mínimo? (Contém Ironia)"
   ]
  },
  {
   "cell_type": "markdown",
   "metadata": {},
   "source": [
    "## Jornalismo de dados\n",
    "\n",
    "> Se eu fosse começar tudo de novo seria por aqui ...\n",
    "\n",
    "* https://abraji.org.br/\n",
    "* https://abraji.org.br/help-desk/veja-como-acessar-as-apis-de-dados-da-prefeitura-de-sao-paulo\n",
    "* https://github.com/abraji\n"
   ]
  },
  {
   "cell_type": "markdown",
   "metadata": {},
   "source": [
    "* http://mobilidadesegura.prefeitura.sp.gov.br\n"
   ]
  },
  {
   "cell_type": "markdown",
   "metadata": {},
   "source": [
    "## Vamos para os finalmente?\n",
    "\n",
    "* Criar um ambiente de debate\n",
    "* Uma pessoa apresenta uma idéia, crítica, ponto de vista, questionamento, solução, etc ...\n",
    "* As outras escutam\n",
    "* Abre-se para o debate das colocações"
   ]
  },
  {
   "cell_type": "markdown",
   "metadata": {},
   "source": [
    "# Vamos manter contato\n",
    "\n",
    "> Aprender e ensinar deveria ser o mesmo verbo, como dançar, brincar, comemorar ... Assim como alunes e professores deveriaim ser um único substantivo, e agora somos, que tal amigos, parceiros, pesquisadores?\n",
    "\n",
    "* @feromes\n",
    "* feromes@usp.br\n",
    "* WhatsApp no grupo!"
   ]
  },
  {
   "cell_type": "markdown",
   "metadata": {},
   "source": []
  }
 ],
 "metadata": {
  "language_info": {
   "name": "python"
  },
  "orig_nbformat": 4
 },
 "nbformat": 4,
 "nbformat_minor": 2
}
