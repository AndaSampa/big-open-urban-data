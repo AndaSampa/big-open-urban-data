{
 "cells": [
  {
   "cell_type": "markdown",
   "id": "d5f48328",
   "metadata": {
    "slideshow": {
     "slide_type": "slide"
    }
   },
   "source": [
    "# BigOpenUrbanData: Estudos orientados à morfologia urbana através de dados abertos na cidade de São Paulo\n",
    "\n",
    "_Fernando Gomes (@feromes)_"
   ]
  },
  {
   "cell_type": "markdown",
   "id": "2c20a693",
   "metadata": {
    "slideshow": {
     "slide_type": "slide"
    }
   },
   "source": [
    "## Aula 0: Agenda, formação do grupo e formulação de proposta"
   ]
  },
  {
   "cell_type": "markdown",
   "id": "f7cba810",
   "metadata": {
    "slideshow": {
     "slide_type": "slide"
    }
   },
   "source": [
    "### Agenda\n",
    "\n",
    "* Ementa\n",
    "* Agenda\n",
    "* Bases pedagógicas/metodológicas desta disciplina\n",
    "* As disciplinas envolvidas\n",
    "* Apresentacao dos meu trabalhos\n",
    "  * Exame de Qualificacao Mestrado/Doutorado\n",
    "  * TRabalhos pregressos\n",
    "  * TRabalhos em desenvolvimento\n",
    "  * Interesses e visão de mundo\n",
    "* Interlocução para formacao da proposta:\n",
    "  * As disciplinas envolvidas\n",
    "  * Softwares, Livres\n",
    "  * Contribuicões em trabalhos\n",
    "* Proposta de trabalho prático?\n",
    "* Gerando rede: Validação, aplicação ou experimentação do aprendizado em formato digital público e aberto com licença livre\n"
   ]
  },
  {
   "cell_type": "markdown",
   "id": "b77d36f1",
   "metadata": {
    "slideshow": {
     "slide_type": "slide"
    }
   },
   "source": [
    "## Antes de começar\n",
    "\n",
    "> Somos um grupo e podemos pensar, nos identificar e produzir coletivamente, que tal uma anotação coletiva?\n",
    "\n",
    "https://pad.education/p/big-open-urban-data"
   ]
  },
  {
   "cell_type": "markdown",
   "id": "f5aa286d",
   "metadata": {
    "slideshow": {
     "slide_type": "slide"
    }
   },
   "source": [
    "## Apresentação da Ementa\n",
    "\n",
    "> Ementa é sinônimo de: lembrança, sinopse, sumário, síntese, apontamento, cardápio, nota, rubrica \n",
    "\n",
    "https://github.com/AndaSampa/big-open-urban-data"
   ]
  },
  {
   "cell_type": "markdown",
   "id": "4d887a46",
   "metadata": {
    "slideshow": {
     "slide_type": "slide"
    }
   },
   "source": [
    "## Bases e princípios pedagógicos\n",
    "\n",
    "> Vamos refletir sobre aprender a aprender?\n"
   ]
  },
  {
   "cell_type": "markdown",
   "id": "d988ab50",
   "metadata": {
    "slideshow": {
     "slide_type": "slide"
    }
   },
   "source": [
    "## Como aprendemos a andar\n",
    "\n",
    "* Andar é algo muito complexo e multidisciplinar, bio-psico-social\n",
    "* Não é à toa que estamos usando uma analogia de andar\n",
    "* O estímulo visual é muito eficiente e pode cegar frequentemente\n",
    "\n",
    "> Crianças cegas demoram mais para aprender a andar?\n",
    "\n",
    "_Heinrich Tröster, Michael Brambring,\n",
    "Early motor development in blind infants,\n",
    "Journal of Applied Developmental Psychology,\n",
    "Volume 14, Issue 1,\n",
    "1993,\n",
    "Pages 83-106,\n",
    "ISSN 0193-3973_\n"
   ]
  },
  {
   "cell_type": "markdown",
   "id": "d5561286",
   "metadata": {
    "slideshow": {
     "slide_type": "slide"
    }
   },
   "source": [
    "## Hipóteses de escrita\n",
    "\n",
    "https://pt.slideshare.net/chagasl/hipteses-da-escrita\n",
    "\n",
    "> Será que somos assim em relação à outros aprendizados na vida adulta?"
   ]
  },
  {
   "cell_type": "markdown",
   "id": "541cb9d3",
   "metadata": {
    "slideshow": {
     "slide_type": "slide"
    }
   },
   "source": [
    "## Método Freiriano\n",
    "\n",
    "* Alfabetização de adultos\n",
    "* Sem cartilha -> Palavras Geradoras -> Divisão silábica -> Novas Palavras -> Consientização\n",
    "\n",
    "> Quando a educação é opressora o oprimido se torna o opressor\n",
    "\n",
    "_Pedagogia do oprimido. New York: Herder & Herder, 1970 (manuscrito em português de 1968). Publicado com Prefácio de Ernani Maria Fiori. Rio de Janeiro, Paz e Terra, 218 p., (23 ed., 1994, 184 p.)._"
   ]
  },
  {
   "cell_type": "markdown",
   "id": "c2feea48",
   "metadata": {
    "slideshow": {
     "slide_type": "slide"
    }
   },
   "source": [
    "## Indo além\n",
    "\n",
    "> Educação é conservação e transgreçao\n",
    "\n",
    "* Galileu, Newton, Einstein, Hawking, ...\n",
    "* Ciência não é sobre ter certeza, mas sobre dúvidar"
   ]
  },
  {
   "cell_type": "markdown",
   "id": "4ba91581",
   "metadata": {
    "slideshow": {
     "slide_type": "slide"
    }
   },
   "source": [
    "## Concluindo bases pedagógicas\n",
    "\n",
    "* Somos seres diversos, conhecedores de alguma coisa e desconhecedores de outras\n",
    "* Cada um de nós está em um nível de compreensão sobre cada tópico\n",
    "* Não somos caixa vazia nem folha em branco, temos repertório e muito a falar\n",
    "* Para ir além que tal organizar nossas dúvidas e inquietações"
   ]
  },
  {
   "cell_type": "markdown",
   "id": "47b30a91",
   "metadata": {
    "slideshow": {
     "slide_type": "slide"
    }
   },
   "source": [
    "## Como vão ser as dinâmicas das aulas?\n",
    "\n",
    "* Aula expositiva e bate-papo\n",
    "* Indo do princípio teórico ao específico prático\n",
    "* Pode abrir o microfone e so colocar a qualquer momento\n",
    "\n",
    ">  “Para mim, uma aula não tem como objetivo ser entendida totalmente. Uma aula é uma espécie de matéria em movimento. É por isso que é musical. Numa aula, cada grupo ou cada estudante pega o que lhe convém. Uma aula ruim é a que não convém a ninguém. Não podemos dizer que tudo convém a todos. As pessoas têm de esperar. Obviamente, tem alguém meio adormecido. Por que ele acorda misteriosamente no momento que lhe diz respeito? Não há uma lei que diz o que diz respeito a alguém. O assunto de seu interesse é outra coisa. Uma aula é emoção. É tanto emoção quanto inteligência. Sem emoção, não há nada, não há interesse algum. Não é uma questão de entender e ouvir tudo, mas de acordar em tempo de captar o que lhe convém pessoalmente. É por isso que um público variado é muito importante. Sentimos o deslocamento dos centros de interesse que pulam de um para outro. Isso forma uma espécie de tecido esplêndido, uma espécie de textura”. \n",
    "> Entrevista concedida por Deleuze à Claire Parnet, em 1986.\n",
    "\n",
    "_https://www.youtube.com/watch?v=-C2BlFFUu9M_"
   ]
  },
  {
   "cell_type": "markdown",
   "id": "488b646a",
   "metadata": {
    "slideshow": {
     "slide_type": "slide"
    }
   },
   "source": [
    "## As multi-disciplinas desta disciplina\n",
    "\n",
    "* Teoria da arquitetura e do Urbanismo\n",
    "* Matemática, programação, ciencia de dados e um pouco de física\n",
    "* Pedagogia, Filosofia, sociologia, \"ciência política\", política, e um pouco de história\n",
    "* GeoProcessamento, Geografia, topografia e geodesia\n",
    "> Multidisciplinaridade, ou melhor, Interdisciplinaridade"
   ]
  },
  {
   "cell_type": "markdown",
   "id": "038a430c",
   "metadata": {
    "slideshow": {
     "slide_type": "slide"
    }
   },
   "source": [
    "## Coisas que não serão encontradas nesta disciplina (Recorte temático)\n",
    "\n",
    "* Linhas do tempo monodimensionais\n",
    "* Tutoriais, para isso temos o Youtube\n",
    "* Informações sem fonte, por favor me cobrem isso!\n",
    "* Certezas incontestáveis, pra ser ciência tem que ser refutável\n",
    "* Softwares proprietários e progamas \"closed box\"\n",
    "* Sexismo, racismo, fascismo, autoritarismo, capacitismo, especismo, homofobia, transfobia, nem discurso de ódio.\n",
    "* Questionamento crítico de autoras e autores https://edisciplinas.usp.br/pluginfile.php/5247383/mod_resource/content/1/bell%20hooks%20sobre%20Paulo%20Freire.pdf"
   ]
  },
  {
   "cell_type": "markdown",
   "id": "52fa58f1",
   "metadata": {
    "slideshow": {
     "slide_type": "slide"
    }
   },
   "source": [
    "## Minha apresentação\n",
    "\n",
    "* Arquiteto, Urbanista (Urbanólogo/Urbanologista)\n",
    "* Programador, desde 1985, 8 anos de idade\n",
    "* Doutorando pela POLI/USP, Eng. de TRansportes, Informações Espaciais\n",
    "* Cientista de dados e Pesquisador no CEM/CEPID (https://centrodametropole.fflch.usp.br/pt-br)\n",
    "* Trabalhei na Prefeitura de São Paulo GeoInfo/SMUL"
   ]
  },
  {
   "cell_type": "markdown",
   "id": "41456c37",
   "metadata": {
    "slideshow": {
     "slide_type": "slide"
    }
   },
   "source": [
    "## Apresentação do Exame de Qualificação\n",
    "\n",
    "Link professor: https://www.canva.com/design/DAFEE0l0Emw/QH2Zx50DLyldIdjOdwQ4Pg/edit?utm_content=DAFEE0l0Emw&utm_campaign=designshare&utm_medium=link2&utm_source=sharebutton\n",
    "\n",
    "link alunas e alunos: https://www.canva.com/design/DAFEE0l0Emw/QH2Zx50DLyldIdjOdwQ4Pg/view?utm_content=DAFEE0l0Emw&utm_campaign=designshare&utm_medium=link2&utm_source=sharebutton\n",
    "\n"
   ]
  },
  {
   "cell_type": "markdown",
   "id": "b3f33e55",
   "metadata": {
    "slideshow": {
     "slide_type": "slide"
    }
   },
   "source": [
    "### Trabalhos Pregressos (GeoInfo/SMUL)\n",
    "\n",
    "* Vencedor da Hackatona\n",
    "    * https://feromes.github.io/Digressao-da-Complexidade-Morfologica/presentation/index_hackatona.html\n",
    "    * https://www.prefeitura.sp.gov.br/cidade/secretarias/inovacao/noticias/?p=279276\n",
    "    * https://www.prefeitura.sp.gov.br/cidade/secretarias/upload/geoinfo.pdf\n",
    "* http://geosampa.prefeitura.sp.gov.br/PaginasPublicas/_SBC.aspx\n",
    "* https://github.com/geoinfo-smdu/"
   ]
  },
  {
   "cell_type": "markdown",
   "id": "adc175e7",
   "metadata": {
    "slideshow": {
     "slide_type": "slide"
    }
   },
   "source": [
    "### TRabalhos em Desenvolvimento\n",
    "\n",
    "* https://github.com/AndaSampa\n",
    "* https://www.kaggle.com/andasampa\n",
    "* https://github.com/cem-usp\n",
    "* Favelas"
   ]
  },
  {
   "cell_type": "raw",
   "id": "5257c252",
   "metadata": {
    "slideshow": {
     "slide_type": "slide"
    }
   },
   "source": [
    "### Interesses, objetivos e visão de mundo\n",
    "\n",
    "* Compreender e estudar aSSSS cidadeSSSS por dados e pela morfologia\n",
    "* Publicar artigos e notas técnicas para dialogar e não ficar falando sozinho\n",
    "* Terminar o Doutorado\n",
    "* Internacionalizar a pesquisa\n",
    "* Aplicar a pesquisa para diminuir as deseigualdades e fomentar a discussão através das evidências"
   ]
  },
  {
   "cell_type": "markdown",
   "id": "695f212a",
   "metadata": {
    "slideshow": {
     "slide_type": "slide"
    }
   },
   "source": [
    "## Vamos dialogar?\n",
    "\n",
    "* Quero ouvir vcs agora\n",
    "* Possibilidade de contribuição/interesse em algum dos trabalhos apresentados\n",
    "* Por que afinal eu to aqui para criar rede\n",
    "\n",
    "> Que tal apresentar a sua(s) inquietação(ções) ou se apresentar a partir da sua(s) inquitação(ções), aquilo que te move a aprender e questionar? Ou então sobre as expecitativas com essa disciplina, com o curso, etc ...\n"
   ]
  },
  {
   "cell_type": "markdown",
   "id": "b74ab49c",
   "metadata": {
    "slideshow": {
     "slide_type": "slide"
    }
   },
   "source": [
    "## Softwares envolvidos para quem quiser instalar ou fuçar para as próximas aulas\n",
    "\n",
    "* Qgis\n",
    "* CloudCompare\n",
    "* Vários outros, todos Livres (de gratis)\n",
    "* Python\n",
    "  * Jupyter Notebook\n",
    "  * GeoPandas\n",
    "  * Pandas\n",
    "  * PDAL\n",
    "  * GDAL\n",
    "  * etc ...\n",
    "* Não sabe Python?\n",
    "  * Quer Aprender?\n",
    "    * https://www.youtube.com/c/Programa%C3%A7%C3%A3oDin%C3%A2mica/videos\n",
    "    * Alura é bem legal se quiser investir $$\n",
    "    * Dá para aprender R tb que é bem legal"
   ]
  },
  {
   "cell_type": "markdown",
   "id": "3876e4e8",
   "metadata": {
    "slideshow": {
     "slide_type": "slide"
    }
   },
   "source": [
    "## Proposta de trabalho\n",
    "\n",
    "> Desenho da perspectiva de BigData Urbano inspirado da descrição dos fenômenos narrados pela obra de Kleber Mendonça Filho\n",
    "\n",
    "* Filmes\n",
    "    * Bacurau (GloboPlay, Telecine NOW)\n",
    "    * Som ao redor (Netflix)\n",
    "    * Aquarius (Netflix e Globoplay)\n",
    "    \n",
    "* Documentário nos cinemas\n",
    "    * Retratos Fantasmas (Ainda não assisti)"
   ]
  },
  {
   "cell_type": "markdown",
   "id": "9cda7332",
   "metadata": {
    "slideshow": {
     "slide_type": "slide"
    }
   },
   "source": [
    "## Validação e não avaliação\n",
    "\n",
    "* Dialogar e não performar, a performance é sempre monodimensional\n",
    "* Ficar sujeito a críticas, melhorias e alterações\n",
    "* Criar base de conhecimento coletiva"
   ]
  }
 ],
 "metadata": {
  "celltoolbar": "Slideshow",
  "kernelspec": {
   "display_name": "Python 3 (ipykernel)",
   "language": "python",
   "name": "python3"
  },
  "language_info": {
   "codemirror_mode": {
    "name": "ipython",
    "version": 3
   },
   "file_extension": ".py",
   "mimetype": "text/x-python",
   "name": "python",
   "nbconvert_exporter": "python",
   "pygments_lexer": "ipython3",
   "version": "3.8.12"
  },
  "vscode": {
   "interpreter": {
    "hash": "916dbcbb3f70747c44a77c7bcd40155683ae19c65e1c03b4aa3499c5328201f1"
   }
  }
 },
 "nbformat": 4,
 "nbformat_minor": 5
}
