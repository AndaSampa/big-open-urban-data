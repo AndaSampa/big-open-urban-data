{
 "cells": [
  {
   "cell_type": "markdown",
   "metadata": {},
   "source": [
    "# Aula 5\n",
    "\n",
    "* Apresentação do Trabalho de Informalidade na Habitação\n",
    "* Apresentação de Trabalhos da turma\n",
    "* Discussões e revisão"
   ]
  },
  {
   "cell_type": "markdown",
   "metadata": {},
   "source": [
    "## Motivação\n",
    "\n",
    "* Habitação e mobilidade\n",
    "    * (in)Formalidade (Invasão)\n",
    "    * Precariedade morfológica (Favela)\n",
    "    * Acessibilidade (Periferia)"
   ]
  },
  {
   "cell_type": "markdown",
   "metadata": {},
   "source": [
    "## Informalidade\n",
    "\n",
    "> A ONU Habitat define a favela (Slum) como aquelas porções do tecido urbano onde precariedade e informalidade na habitação  estão sobrepostos"
   ]
  },
  {
   "cell_type": "markdown",
   "metadata": {},
   "source": [
    "## Como medir a formalidade\n",
    "\n",
    "* Cadastro\n",
    "    * SQL (Setor, Quadra e Lote)\n",
    "    * Painel Cadastral da Cidade de São Paulo\n",
    "    * https://dashiptu.centrodametropole.fflch.usp.br/"
   ]
  },
  {
   "cell_type": "markdown",
   "metadata": {},
   "source": [
    "## Como medir a cidade construída\n",
    "\n",
    "* LiDAR 2017\n",
    "* LiDAR 2020\n",
    "* Diferença entre os dois\n",
    "* Diferença com o cadastro"
   ]
  },
  {
   "cell_type": "markdown",
   "metadata": {},
   "source": [
    "## Resultados preliminares\n",
    "\n",
    "* Abrir o arquivo ..."
   ]
  },
  {
   "cell_type": "code",
   "execution_count": null,
   "metadata": {},
   "outputs": [],
   "source": []
  },
  {
   "cell_type": "code",
   "execution_count": null,
   "metadata": {},
   "outputs": [],
   "source": []
  },
  {
   "cell_type": "markdown",
   "metadata": {
    "slideshow": {
     "slide_type": "slide"
    }
   },
   "source": [
    "# Aula[-1]: APIs e Dados Abertos\n",
    "\n",
    "* Vamos aguardar até 18:45 para começar?\n",
    "* Lembrete: Deixamos 2/3 da aula de hj para apresentações. Pra quem quiser!"
   ]
  },
  {
   "cell_type": "markdown",
   "metadata": {
    "slideshow": {
     "slide_type": "slide"
    }
   },
   "source": [
    "* API (Application Programming Interface)\n",
    "\n",
    "> \"É como se fossem *contratos* que determinados programas fazem para serem utilizados por outros programas e aplicações\""
   ]
  },
  {
   "cell_type": "markdown",
   "metadata": {
    "slideshow": {
     "slide_type": "slide"
    }
   },
   "source": [
    "# Contexto de Dados Abertos\n",
    "\n",
    "* Muito utilizado por empresas para \"abrir\" seus dados. Estratégia?\n",
    "  * https://developers.strava.com/\n",
    "  * https://developer.twitter.com/en\n",
    "  * https://onemilliontweetmap.com\n"
   ]
  },
  {
   "cell_type": "markdown",
   "metadata": {
    "slideshow": {
     "slide_type": "slide"
    }
   },
   "source": [
    "# Governos digitais\n",
    "\n",
    "* PIX (https://github.com/bacen/pix-api)\n",
    "* E o CEP hein?!\n",
    "  * Então :o --> https://www.gov.br/conecta/catalogo/apis/cep-codigo-de-enderecamento-postal\n",
    "* https://apilib.prefeitura.sp.gov.br/store/\n",
    "* GeoSampa"
   ]
  },
  {
   "cell_type": "markdown",
   "metadata": {
    "slideshow": {
     "slide_type": "slide"
    }
   },
   "source": [
    "## Dúvida ...\n",
    "\n",
    "> Será que é democrático o Estado \"prestar serviço\" e disponibilizar recursos de acesso a dados por APIs? E o Estado Mínimo? (Contém Ironia)"
   ]
  },
  {
   "cell_type": "markdown",
   "metadata": {
    "slideshow": {
     "slide_type": "slide"
    }
   },
   "source": [
    "## Jornalismo de dados\n",
    "\n",
    "> Se eu fosse começar tudo de novo seria por aqui ...\n",
    "\n",
    "* https://abraji.org.br/\n",
    "* https://abraji.org.br/help-desk/veja-como-acessar-as-apis-de-dados-da-prefeitura-de-sao-paulo\n",
    "* https://github.com/abraji\n"
   ]
  },
  {
   "cell_type": "markdown",
   "metadata": {
    "slideshow": {
     "slide_type": "subslide"
    }
   },
   "source": [
    "* http://mobilidadesegura.prefeitura.sp.gov.br\n"
   ]
  },
  {
   "cell_type": "markdown",
   "metadata": {
    "slideshow": {
     "slide_type": "slide"
    }
   },
   "source": [
    "## Vamos para os finalmente?\n",
    "\n",
    "* Criar um ambiente de debate\n",
    "* Uma pessoa apresenta uma idéia, crítica, ponto de vista, questionamento, solução, etc ...\n",
    "* As outras escutam\n",
    "* Abre-se para o debate das colocações - Tertúlia"
   ]
  },
  {
   "cell_type": "markdown",
   "metadata": {
    "slideshow": {
     "slide_type": "slide"
    }
   },
   "source": [
    "# Vamos manter contato\n",
    "\n",
    "> Aprender e ensinar deveria ser o mesmo verbo, como dançar, brincar, comemorar. Assim como alunes e professores deveriaim ser um único substantivo, e agora, depois do afeto, podemos ser: amigos, parceiros, pesquisadores.\n",
    "\n",
    "* @feromes\n",
    "* feromes@usp.br\n",
    "* WhatsApp no grupo!"
   ]
  }
 ],
 "metadata": {
  "celltoolbar": "Slideshow",
  "kernelspec": {
   "display_name": "Python 3 (ipykernel)",
   "language": "python",
   "name": "python3"
  },
  "language_info": {
   "codemirror_mode": {
    "name": "ipython",
    "version": 3
   },
   "file_extension": ".py",
   "mimetype": "text/x-python",
   "name": "python",
   "nbconvert_exporter": "python",
   "pygments_lexer": "ipython3",
   "version": "3.8.5"
  }
 },
 "nbformat": 4,
 "nbformat_minor": 2
}
