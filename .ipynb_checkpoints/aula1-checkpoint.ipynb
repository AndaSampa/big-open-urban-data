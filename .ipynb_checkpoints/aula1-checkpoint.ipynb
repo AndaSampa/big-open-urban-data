{
 "cells": [
  {
   "cell_type": "markdown",
   "metadata": {
    "slideshow": {
     "slide_type": "slide"
    }
   },
   "source": [
    "# Aula 1: Smart City ou Smart Citzen, onde mora a inteligência na cidade?"
   ]
  },
  {
   "cell_type": "markdown",
   "metadata": {
    "slideshow": {
     "slide_type": "fragment"
    }
   },
   "source": [
    "> Spoiler da próxima aula: \"A cidade é .... da invenções humanas ..\", portanto inventamos a cidade, logo, se ela é inteligente ........ , ou para ela se tornar inteligente ..........\n",
    "\n",
    "* e continuamos inventando a cidade\n",
    "* a cidade do futuro já existe, ninguém vai contruir uma nova"
   ]
  },
  {
   "cell_type": "markdown",
   "metadata": {
    "slideshow": {
     "slide_type": "slide"
    }
   },
   "source": [
    "## Quem mora na cidade é _______!\n",
    "\n",
    "* Qual o antonimo de indígena?"
   ]
  },
  {
   "cell_type": "markdown",
   "metadata": {
    "slideshow": {
     "slide_type": "slide"
    }
   },
   "source": [
    "## Cidadania\n",
    "\n",
    "https://www.miltonsantos.com.br/site/wp-content/uploads/2011/12/As-cidadanias-mutiladas_MiltonSantos1996-1997SITE.pdf\n",
    "\n",
    "> \"E afinal a cidadania, que é o exercicio de direitos e supõe a ciência dos direitos que temos e a capacidade de reivindicar seu exercício pleno e também de reivindicar mais. Como tudo isso está ligado ao grau de consciência, voltamos, por conseguinte, à questão da individualidade.\" \n",
    "\n",
    "_Para quem quiser saber mais sobre Milton Santos https://www.brasildefato.com.br/2019/05/03/o-legado-de-milton-santos-um-novo-mundo-possivel-surgira-das-periferias_ \n"
   ]
  },
  {
   "cell_type": "markdown",
   "metadata": {
    "slideshow": {
     "slide_type": "slide"
    }
   },
   "source": [
    "## O espaço cidadão\n",
    "\n",
    " > “Em lugar do cidadão formou-se um consumidor, que aceita ser chamado de usuário”\n",
    "\n",
    " _https://edisciplinas.usp.br/pluginfile.php/4434323/mod_resource/content/1/Milton%20Santos%20-%20Espa%C3%A7o%20do%20Cidad%C3%A3o%20%28Cidadania%20Mutilada%29.pdf_"
   ]
  },
  {
   "cell_type": "markdown",
   "metadata": {
    "slideshow": {
     "slide_type": "slide"
    }
   },
   "source": [
    "## Quer que eu desenhe?\n",
    "\n",
    "* Ilustração: Fila transporte público, Fila na Loja da Apple"
   ]
  },
  {
   "cell_type": "markdown",
   "metadata": {
    "slideshow": {
     "slide_type": "slide"
    }
   },
   "source": [
    "## Mas temos outros geógrafos, antropólogos, sociólogos ...\n",
    "\n",
    "* David Harvey https://www.observatoriodasmetropoles.net.br/tag/david-harvey/\n",
    "* Darcy Ribeiro https://monitormercantil.com.br/construcao-do-estado-nacional-cidadania-consciencia-ciep/\n",
    "* Herbert de Souza (Betinho) https://cafecomsociologia.com/poder-do-cidadao-texto-de-herbet-de/\n",
    "* Henri Lefebvre\n",
    "* ...."
   ]
  },
  {
   "cell_type": "markdown",
   "metadata": {
    "slideshow": {
     "slide_type": "slide"
    }
   },
   "source": [
    "## LAI (Lei de Acesso à Informação)\n",
    "\n",
    "> A Lei nº 12.527, sancionada em 18 de novembro de 2011, regulamenta o direito constitucional de acesso dos cidadãos às informações públicas e é aplicável aos três poderes da União, dos estados, do Distrito Federal e dos municípios.\n",
    "\n",
    "_http://www.planalto.gov.br/ccivil_03/_Ato2011-2014/2011/Lei/L12527.htm_"
   ]
  },
  {
   "cell_type": "markdown",
   "metadata": {
    "slideshow": {
     "slide_type": "slide"
    }
   },
   "source": [
    "## Dados Abertos\n",
    "\n",
    "* Art 8. Par. 3, itens II e III da LAI\n",
    "* Política de dados abertos: https://www.planalto.gov.br/ccivil_03/_ato2015-2018/2016/decreto/d8777.htm\n",
    "* Para saber mais:\n",
    "    * https://ok.org.br/"
   ]
  },
  {
   "cell_type": "markdown",
   "metadata": {
    "slideshow": {
     "slide_type": "slide"
    }
   },
   "source": [
    "## Cidadania e Dados Abertos - Casos práticos\n",
    "\n",
    "* https://medidasp.com/genero-ruas.html\n",
    "* https://ditamapa.desvirtual.com/pt/ - Prfa. Giselle Beiguelman (FAU/USP)\n",
    "* https://urbit.com.br - Dá para ganhar dinheiro tb!\n",
    "* https://ospa.place/home - E continuar ganhando dinheiro!\n",
    "* https://piaui.folha.uol.com.br/tag/igualdades/ - Mas dá para fazer barulho tb ...\n",
    "* https://github.com/okfn-brasil/serenata-de-amor - e controlar contas da Adm. Publica"
   ]
  },
  {
   "cell_type": "markdown",
   "metadata": {
    "slideshow": {
     "slide_type": "slide"
    }
   },
   "source": [
    "## Governo Aberto\n",
    "\n",
    "* https://www.opengovpartnership.org\n",
    "* Prefeitura de São Paulo https://www.prefeitura.sp.gov.br/cidade/secretarias/governo/governo_aberto_na_cidade_de_sao_paulo/index.php?p=252984\n",
    "* Pierre Levy, filósofo - https://pt.wikipedia.org/wiki/Pierre_L%C3%A9vy\n",
    "* Ciberdemocracia - http://copyfight.tk/Acervo/livros/LE%CC%81VY,%20Pierre.%20As%20Tecnologias%20da%20Intelige%CC%82ncia.pdf"
   ]
  },
  {
   "cell_type": "markdown",
   "metadata": {
    "slideshow": {
     "slide_type": "slide"
    }
   },
   "source": [
    "## Empresas \"abertas\"\n",
    "\n",
    "* https://labs.strava.com/\n",
    "* https://developer.twitter.com/en\n",
    "* https://movement.uber.com/cities?lang=en-US\n",
    "* http://insideairbnb.com/get-the-data.html\n",
    "* https://developers.facebook.com/docs/instagram"
   ]
  },
  {
   "cell_type": "markdown",
   "metadata": {
    "slideshow": {
     "slide_type": "slide"
    }
   },
   "source": [
    "## Como mentir com mapas - O Outro Lado\n",
    "\n",
    "\n",
    "* https://openlibrary.org/books/OL1880196M/How_to_Lie_with_Maps\n",
    "* http://www.dpi.inpe.br/gilberto/infogeo/infogeo15.pdf\n",
    "* https://open.lib.umn.edu/mapping/chapter/7-lying-with-maps/\n"
   ]
  },
  {
   "cell_type": "markdown",
   "metadata": {
    "slideshow": {
     "slide_type": "slide"
    }
   },
   "source": [
    "## \"Spurious Correlations\"\n",
    "\n",
    "* Correlações Espúrias\n",
    "* https://www.jstor.org/stable/2281124"
   ]
  },
  {
   "cell_type": "markdown",
   "metadata": {
    "slideshow": {
     "slide_type": "slide"
    }
   },
   "source": [
    "## Software livre\n",
    "\n",
    "As quatro liberdades:\n",
    "* Liberdade 0: A liberdade de execução do programa para qualquer finalidade;\n",
    "* Liberdade 1: A liberdade de estudar e entender como o programa funciona, além de poder adaptá-lo de acordo com as suas necessidades. Para isso, o acesso ao código-fonte do software faz-se necessário;\n",
    "* Liberdade 2: A liberdade de redistribuir cópias com o intuito de ajudar outras pessoas;\n",
    "* Liberdade 3: A liberdade de distribuir cópias alteradas a outras pessoas. Isso permite que as demais pessoas tenham acesso ao software em sua versão melhorada, se beneficiando de suas mudanças.\n"
   ]
  },
  {
   "cell_type": "markdown",
   "metadata": {
    "slideshow": {
     "slide_type": "slide"
    }
   },
   "source": [
    "* FreeWare != Software Livre\n",
    "* FreeWare != Opensource\n",
    "* Software Livre != Software Grátis\n",
    "\n",
    "> Vamos olhar sem o viés da lógica capitalista?"
   ]
  },
  {
   "cell_type": "markdown",
   "metadata": {
    "slideshow": {
     "slide_type": "slide"
    }
   },
   "source": [
    "## Pessoas por traz da comunidade de SL\n",
    "\n",
    "* Richard Stallman - https://pt.wikipedia.org/wiki/Richard_Matthew_Stallman\n",
    "* Linus Torvalds - https://pt.wikipedia.org/wiki/Linus_Torvalds"
   ]
  },
  {
   "cell_type": "markdown",
   "metadata": {
    "slideshow": {
     "slide_type": "slide"
    }
   },
   "source": [
    "## Esse tal de GitHub\n",
    "\n",
    "> Onde a comunidade de Software Livre Acontece, o Cyber Espaço\n",
    "\n",
    "* https://github.com/"
   ]
  },
  {
   "cell_type": "markdown",
   "metadata": {
    "slideshow": {
     "slide_type": "slide"
    }
   },
   "source": [
    "## Licenças criativas\n",
    "\n",
    "* https://br.creativecommons.net/licencas/\n",
    "\n",
    "## Licenças de software\n",
    "\n",
    "* https://choosealicense.com/\n",
    "\n",
    "> Vc já leu a licença do software ou da rede social que vc usa?\n"
   ]
  },
  {
   "cell_type": "markdown",
   "metadata": {
    "slideshow": {
     "slide_type": "slide"
    }
   },
   "source": [
    "# Que tal praticar um pouco?"
   ]
  },
  {
   "cell_type": "markdown",
   "metadata": {
    "slideshow": {
     "slide_type": "fragment"
    }
   },
   "source": [
    "* http://dados.prefeitura.sp.gov.br/dataset/dados-do-sp156\n",
    "* https://github.com/geoinfo-smdu/geo-sp156\n",
    "* https://dados.gov.br\n",
    "* http://www.respeitoavida.sp.gov.br/relatorios/ (Enviado pela Denise)\n",
    "* https://www.saopaulo.sp.gov.br/tag/infosiga/ (Fora pela Lei Eleitoral)\n",
    "* https://www.saopaulo.sp.gov.br/planosp/simi/dados-abertos/ - Dados COVID-SP"
   ]
  },
  {
   "cell_type": "code",
   "execution_count": 1,
   "metadata": {},
   "outputs": [],
   "source": [
    "import pandas as pd"
   ]
  },
  {
   "cell_type": "code",
   "execution_count": 2,
   "metadata": {},
   "outputs": [],
   "source": [
    "df_covid = pd.read_csv(\"dados/arquivofinal2tri2023.csv\", sep=\";\")"
   ]
  },
  {
   "cell_type": "code",
   "execution_count": 3,
   "metadata": {},
   "outputs": [
    {
     "data": {
      "text/plain": [
       "(5984410, 19)"
      ]
     },
     "execution_count": 3,
     "metadata": {},
     "output_type": "execute_result"
    }
   ],
   "source": [
    "df_covid.shape"
   ]
  },
  {
   "cell_type": "code",
   "execution_count": 4,
   "metadata": {},
   "outputs": [
    {
     "data": {
      "text/plain": [
       "Index(['Genero', 'Municipio', 'Asma', 'Diabetes', 'Cardiopatia',\n",
       "       'Doenca Hematologica', 'Doenca Hepatica', 'Doenca Neurologica',\n",
       "       'Doenca Renal', 'Imunodepressao', 'Obesidade', 'Pneumopatia',\n",
       "       'Puérpera', 'Síndrome De Down', 'Outros Fatores De Risco',\n",
       "       'Diagnostico Covid19', 'Data Inicio Sintomas', 'Idade', 'Obito'],\n",
       "      dtype='object')"
      ]
     },
     "execution_count": 4,
     "metadata": {},
     "output_type": "execute_result"
    }
   ],
   "source": [
    "df_covid.columns"
   ]
  },
  {
   "cell_type": "code",
   "execution_count": 5,
   "metadata": {},
   "outputs": [
    {
     "data": {
      "text/html": [
       "<div>\n",
       "<style scoped>\n",
       "    .dataframe tbody tr th:only-of-type {\n",
       "        vertical-align: middle;\n",
       "    }\n",
       "\n",
       "    .dataframe tbody tr th {\n",
       "        vertical-align: top;\n",
       "    }\n",
       "\n",
       "    .dataframe thead th {\n",
       "        text-align: right;\n",
       "    }\n",
       "</style>\n",
       "<table border=\"1\" class=\"dataframe\">\n",
       "  <thead>\n",
       "    <tr style=\"text-align: right;\">\n",
       "      <th></th>\n",
       "      <th>Genero</th>\n",
       "      <th>Municipio</th>\n",
       "      <th>Asma</th>\n",
       "      <th>Diabetes</th>\n",
       "      <th>Cardiopatia</th>\n",
       "      <th>Doenca Hematologica</th>\n",
       "      <th>Doenca Hepatica</th>\n",
       "      <th>Doenca Neurologica</th>\n",
       "      <th>Doenca Renal</th>\n",
       "      <th>Imunodepressao</th>\n",
       "      <th>Obesidade</th>\n",
       "      <th>Pneumopatia</th>\n",
       "      <th>Puérpera</th>\n",
       "      <th>Síndrome De Down</th>\n",
       "      <th>Outros Fatores De Risco</th>\n",
       "      <th>Diagnostico Covid19</th>\n",
       "      <th>Data Inicio Sintomas</th>\n",
       "      <th>Idade</th>\n",
       "      <th>Obito</th>\n",
       "    </tr>\n",
       "  </thead>\n",
       "  <tbody>\n",
       "    <tr>\n",
       "      <th>0</th>\n",
       "      <td>FEMININO</td>\n",
       "      <td>SANTA BÁRBARA D'OESTE</td>\n",
       "      <td>IGNORADO</td>\n",
       "      <td>IGNORADO</td>\n",
       "      <td>IGNORADO</td>\n",
       "      <td>IGNORADO</td>\n",
       "      <td>IGNORADO</td>\n",
       "      <td>IGNORADO</td>\n",
       "      <td>IGNORADO</td>\n",
       "      <td>IGNORADO</td>\n",
       "      <td>IGNORADO</td>\n",
       "      <td>IGNORADO</td>\n",
       "      <td>IGNORADO</td>\n",
       "      <td>IGNORADO</td>\n",
       "      <td>IGNORADO</td>\n",
       "      <td>CONFIRMADO</td>\n",
       "      <td>16/11/2020</td>\n",
       "      <td>15.0</td>\n",
       "      <td>0</td>\n",
       "    </tr>\n",
       "    <tr>\n",
       "      <th>1</th>\n",
       "      <td>FEMININO</td>\n",
       "      <td>SANTA BÁRBARA D'OESTE</td>\n",
       "      <td>IGNORADO</td>\n",
       "      <td>IGNORADO</td>\n",
       "      <td>IGNORADO</td>\n",
       "      <td>IGNORADO</td>\n",
       "      <td>IGNORADO</td>\n",
       "      <td>IGNORADO</td>\n",
       "      <td>IGNORADO</td>\n",
       "      <td>IGNORADO</td>\n",
       "      <td>IGNORADO</td>\n",
       "      <td>IGNORADO</td>\n",
       "      <td>IGNORADO</td>\n",
       "      <td>IGNORADO</td>\n",
       "      <td>IGNORADO</td>\n",
       "      <td>CONFIRMADO</td>\n",
       "      <td>16/11/2020</td>\n",
       "      <td>24.0</td>\n",
       "      <td>0</td>\n",
       "    </tr>\n",
       "    <tr>\n",
       "      <th>2</th>\n",
       "      <td>FEMININO</td>\n",
       "      <td>SANTA BÁRBARA D'OESTE</td>\n",
       "      <td>IGNORADO</td>\n",
       "      <td>IGNORADO</td>\n",
       "      <td>IGNORADO</td>\n",
       "      <td>IGNORADO</td>\n",
       "      <td>IGNORADO</td>\n",
       "      <td>IGNORADO</td>\n",
       "      <td>IGNORADO</td>\n",
       "      <td>IGNORADO</td>\n",
       "      <td>IGNORADO</td>\n",
       "      <td>IGNORADO</td>\n",
       "      <td>IGNORADO</td>\n",
       "      <td>IGNORADO</td>\n",
       "      <td>IGNORADO</td>\n",
       "      <td>CONFIRMADO</td>\n",
       "      <td>16/11/2020</td>\n",
       "      <td>47.0</td>\n",
       "      <td>0</td>\n",
       "    </tr>\n",
       "    <tr>\n",
       "      <th>3</th>\n",
       "      <td>MASCULINO</td>\n",
       "      <td>SANTA BÁRBARA D'OESTE</td>\n",
       "      <td>IGNORADO</td>\n",
       "      <td>IGNORADO</td>\n",
       "      <td>IGNORADO</td>\n",
       "      <td>IGNORADO</td>\n",
       "      <td>IGNORADO</td>\n",
       "      <td>IGNORADO</td>\n",
       "      <td>IGNORADO</td>\n",
       "      <td>IGNORADO</td>\n",
       "      <td>IGNORADO</td>\n",
       "      <td>IGNORADO</td>\n",
       "      <td>IGNORADO</td>\n",
       "      <td>IGNORADO</td>\n",
       "      <td>IGNORADO</td>\n",
       "      <td>CONFIRMADO</td>\n",
       "      <td>16/11/2020</td>\n",
       "      <td>59.0</td>\n",
       "      <td>0</td>\n",
       "    </tr>\n",
       "  </tbody>\n",
       "</table>\n",
       "</div>"
      ],
      "text/plain": [
       "      Genero              Municipio      Asma  Diabetes Cardiopatia  \\\n",
       "0   FEMININO  SANTA BÁRBARA D'OESTE  IGNORADO  IGNORADO    IGNORADO   \n",
       "1   FEMININO  SANTA BÁRBARA D'OESTE  IGNORADO  IGNORADO    IGNORADO   \n",
       "2   FEMININO  SANTA BÁRBARA D'OESTE  IGNORADO  IGNORADO    IGNORADO   \n",
       "3  MASCULINO  SANTA BÁRBARA D'OESTE  IGNORADO  IGNORADO    IGNORADO   \n",
       "\n",
       "  Doenca Hematologica Doenca Hepatica Doenca Neurologica Doenca Renal  \\\n",
       "0            IGNORADO        IGNORADO           IGNORADO     IGNORADO   \n",
       "1            IGNORADO        IGNORADO           IGNORADO     IGNORADO   \n",
       "2            IGNORADO        IGNORADO           IGNORADO     IGNORADO   \n",
       "3            IGNORADO        IGNORADO           IGNORADO     IGNORADO   \n",
       "\n",
       "  Imunodepressao Obesidade Pneumopatia  Puérpera Síndrome De Down  \\\n",
       "0       IGNORADO  IGNORADO    IGNORADO  IGNORADO         IGNORADO   \n",
       "1       IGNORADO  IGNORADO    IGNORADO  IGNORADO         IGNORADO   \n",
       "2       IGNORADO  IGNORADO    IGNORADO  IGNORADO         IGNORADO   \n",
       "3       IGNORADO  IGNORADO    IGNORADO  IGNORADO         IGNORADO   \n",
       "\n",
       "  Outros Fatores De Risco Diagnostico Covid19 Data Inicio Sintomas  Idade  \\\n",
       "0                IGNORADO          CONFIRMADO           16/11/2020   15.0   \n",
       "1                IGNORADO          CONFIRMADO           16/11/2020   24.0   \n",
       "2                IGNORADO          CONFIRMADO           16/11/2020   47.0   \n",
       "3                IGNORADO          CONFIRMADO           16/11/2020   59.0   \n",
       "\n",
       "   Obito  \n",
       "0      0  \n",
       "1      0  \n",
       "2      0  \n",
       "3      0  "
      ]
     },
     "execution_count": 5,
     "metadata": {},
     "output_type": "execute_result"
    }
   ],
   "source": [
    "df_covid.head(4)"
   ]
  },
  {
   "cell_type": "code",
   "execution_count": 6,
   "metadata": {},
   "outputs": [
    {
     "data": {
      "text/plain": [
       "<AxesSubplot:>"
      ]
     },
     "execution_count": 6,
     "metadata": {},
     "output_type": "execute_result"
    },
    {
     "data": {
      "image/png": "[encoded data removed]",
      "text/plain": [
       "<Figure size 432x288 with 1 Axes>"
      ]
     },
     "metadata": {
      "needs_background": "light"
     },
     "output_type": "display_data"
    }
   ],
   "source": [
    "df_covid.loc[df_covid['Idade'] < 136 ,'Idade'].hist(bins=120)"
   ]
  },
  {
   "cell_type": "code",
   "execution_count": 7,
   "metadata": {},
   "outputs": [
    {
     "data": {
      "text/plain": [
       "0    5810619\n",
       "1     173791\n",
       "Name: Obito, dtype: int64"
      ]
     },
     "execution_count": 7,
     "metadata": {},
     "output_type": "execute_result"
    }
   ],
   "source": [
    "df_covid['Obito'].value_counts()"
   ]
  },
  {
   "cell_type": "code",
   "execution_count": 8,
   "metadata": {},
   "outputs": [
    {
     "data": {
      "text/plain": [
       "Genero                      object\n",
       "Municipio                   object\n",
       "Asma                        object\n",
       "Diabetes                    object\n",
       "Cardiopatia                 object\n",
       "Doenca Hematologica         object\n",
       "Doenca Hepatica             object\n",
       "Doenca Neurologica          object\n",
       "Doenca Renal                object\n",
       "Imunodepressao              object\n",
       "Obesidade                   object\n",
       "Pneumopatia                 object\n",
       "Puérpera                    object\n",
       "Síndrome De Down            object\n",
       "Outros Fatores De Risco     object\n",
       "Diagnostico Covid19         object\n",
       "Data Inicio Sintomas        object\n",
       "Idade                      float64\n",
       "Obito                        int64\n",
       "dtype: object"
      ]
     },
     "execution_count": 8,
     "metadata": {},
     "output_type": "execute_result"
    }
   ],
   "source": [
    "df_covid.dtypes"
   ]
  },
  {
   "cell_type": "code",
   "execution_count": 30,
   "metadata": {},
   "outputs": [],
   "source": [
    "df_covid.loc[:, 'data'] = pd.to_datetime(df_covid['Data Inicio Sintomas'], errors='ignore', infer_datetime_format=True)"
   ]
  },
  {
   "cell_type": "code",
   "execution_count": 35,
   "metadata": {},
   "outputs": [
    {
     "data": {
      "text/plain": [
       "<AxesSubplot:>"
      ]
     },
     "execution_count": 35,
     "metadata": {},
     "output_type": "execute_result"
    },
    {
     "data": {
      "image/png": "[encoded data removed]",
      "text/plain": [
       "<Figure size 432x288 with 1 Axes>"
      ]
     },
     "metadata": {
      "needs_background": "light"
     },
     "output_type": "display_data"
    }
   ],
   "source": [
    "df_covid.loc[df_covid['Obito'] == 1, 'data'].hist(bins=300)"
   ]
  },
  {
   "cell_type": "code",
   "execution_count": 36,
   "metadata": {},
   "outputs": [
    {
     "data": {
      "text/plain": [
       "<AxesSubplot:>"
      ]
     },
     "execution_count": 36,
     "metadata": {},
     "output_type": "execute_result"
    },
    {
     "data": {
      "image/png": "[encoded data removed]",
      "text/plain": [
       "<Figure size 432x288 with 1 Axes>"
      ]
     },
     "metadata": {
      "needs_background": "light"
     },
     "output_type": "display_data"
    }
   ],
   "source": [
    "df_covid.loc[:, 'data'].hist(bins=300)"
   ]
  },
  {
   "cell_type": "code",
   "execution_count": 37,
   "metadata": {},
   "outputs": [
    {
     "data": {
      "text/html": [
       "<div>\n",
       "<style scoped>\n",
       "    .dataframe tbody tr th:only-of-type {\n",
       "        vertical-align: middle;\n",
       "    }\n",
       "\n",
       "    .dataframe tbody tr th {\n",
       "        vertical-align: top;\n",
       "    }\n",
       "\n",
       "    .dataframe thead th {\n",
       "        text-align: right;\n",
       "    }\n",
       "</style>\n",
       "<table border=\"1\" class=\"dataframe\">\n",
       "  <thead>\n",
       "    <tr style=\"text-align: right;\">\n",
       "      <th></th>\n",
       "      <th>Genero</th>\n",
       "      <th>Municipio</th>\n",
       "      <th>Asma</th>\n",
       "      <th>Diabetes</th>\n",
       "      <th>Cardiopatia</th>\n",
       "      <th>Doenca Hematologica</th>\n",
       "      <th>Doenca Hepatica</th>\n",
       "      <th>Doenca Neurologica</th>\n",
       "      <th>Doenca Renal</th>\n",
       "      <th>Imunodepressao</th>\n",
       "      <th>Obesidade</th>\n",
       "      <th>Pneumopatia</th>\n",
       "      <th>Puérpera</th>\n",
       "      <th>Síndrome De Down</th>\n",
       "      <th>Outros Fatores De Risco</th>\n",
       "      <th>Diagnostico Covid19</th>\n",
       "      <th>Data Inicio Sintomas</th>\n",
       "      <th>Idade</th>\n",
       "      <th>Obito</th>\n",
       "      <th>data</th>\n",
       "    </tr>\n",
       "  </thead>\n",
       "  <tbody>\n",
       "    <tr>\n",
       "      <th>852332</th>\n",
       "      <td>FEMININO</td>\n",
       "      <td>CRAVINHOS</td>\n",
       "      <td>IGNORADO</td>\n",
       "      <td>IGNORADO</td>\n",
       "      <td>IGNORADO</td>\n",
       "      <td>IGNORADO</td>\n",
       "      <td>IGNORADO</td>\n",
       "      <td>IGNORADO</td>\n",
       "      <td>IGNORADO</td>\n",
       "      <td>IGNORADO</td>\n",
       "      <td>IGNORADO</td>\n",
       "      <td>IGNORADO</td>\n",
       "      <td>IGNORADO</td>\n",
       "      <td>IGNORADO</td>\n",
       "      <td>IGNORADO</td>\n",
       "      <td>CONFIRMADO</td>\n",
       "      <td>18/03/2021</td>\n",
       "      <td>136.00</td>\n",
       "      <td>0</td>\n",
       "      <td>2021-03-18</td>\n",
       "    </tr>\n",
       "    <tr>\n",
       "      <th>1400681</th>\n",
       "      <td>MASCULINO</td>\n",
       "      <td>ASSIS</td>\n",
       "      <td>IGNORADO</td>\n",
       "      <td>IGNORADO</td>\n",
       "      <td>IGNORADO</td>\n",
       "      <td>IGNORADO</td>\n",
       "      <td>IGNORADO</td>\n",
       "      <td>IGNORADO</td>\n",
       "      <td>IGNORADO</td>\n",
       "      <td>IGNORADO</td>\n",
       "      <td>IGNORADO</td>\n",
       "      <td>IGNORADO</td>\n",
       "      <td>IGNORADO</td>\n",
       "      <td>IGNORADO</td>\n",
       "      <td>IGNORADO</td>\n",
       "      <td>CONFIRMADO</td>\n",
       "      <td>NaN</td>\n",
       "      <td>2,188.00</td>\n",
       "      <td>0</td>\n",
       "      <td>NaT</td>\n",
       "    </tr>\n",
       "    <tr>\n",
       "      <th>5052200</th>\n",
       "      <td>MASCULINO</td>\n",
       "      <td>TAUBATÉ</td>\n",
       "      <td>IGNORADO</td>\n",
       "      <td>IGNORADO</td>\n",
       "      <td>IGNORADO</td>\n",
       "      <td>IGNORADO</td>\n",
       "      <td>IGNORADO</td>\n",
       "      <td>IGNORADO</td>\n",
       "      <td>IGNORADO</td>\n",
       "      <td>IGNORADO</td>\n",
       "      <td>IGNORADO</td>\n",
       "      <td>IGNORADO</td>\n",
       "      <td>IGNORADO</td>\n",
       "      <td>IGNORADO</td>\n",
       "      <td>IGNORADO</td>\n",
       "      <td>CONFIRMADO</td>\n",
       "      <td>19/03/2020</td>\n",
       "      <td>136.00</td>\n",
       "      <td>0</td>\n",
       "      <td>2020-03-19</td>\n",
       "    </tr>\n",
       "  </tbody>\n",
       "</table>\n",
       "</div>"
      ],
      "text/plain": [
       "            Genero  Municipio      Asma  Diabetes Cardiopatia  \\\n",
       "852332    FEMININO  CRAVINHOS  IGNORADO  IGNORADO    IGNORADO   \n",
       "1400681  MASCULINO      ASSIS  IGNORADO  IGNORADO    IGNORADO   \n",
       "5052200  MASCULINO    TAUBATÉ  IGNORADO  IGNORADO    IGNORADO   \n",
       "\n",
       "        Doenca Hematologica Doenca Hepatica Doenca Neurologica Doenca Renal  \\\n",
       "852332             IGNORADO        IGNORADO           IGNORADO     IGNORADO   \n",
       "1400681            IGNORADO        IGNORADO           IGNORADO     IGNORADO   \n",
       "5052200            IGNORADO        IGNORADO           IGNORADO     IGNORADO   \n",
       "\n",
       "        Imunodepressao Obesidade Pneumopatia  Puérpera Síndrome De Down  \\\n",
       "852332        IGNORADO  IGNORADO    IGNORADO  IGNORADO         IGNORADO   \n",
       "1400681       IGNORADO  IGNORADO    IGNORADO  IGNORADO         IGNORADO   \n",
       "5052200       IGNORADO  IGNORADO    IGNORADO  IGNORADO         IGNORADO   \n",
       "\n",
       "        Outros Fatores De Risco Diagnostico Covid19 Data Inicio Sintomas  \\\n",
       "852332                 IGNORADO          CONFIRMADO           18/03/2021   \n",
       "1400681                IGNORADO          CONFIRMADO                  NaN   \n",
       "5052200                IGNORADO          CONFIRMADO           19/03/2020   \n",
       "\n",
       "           Idade  Obito       data  \n",
       "852332    136.00      0 2021-03-18  \n",
       "1400681 2,188.00      0        NaT  \n",
       "5052200   136.00      0 2020-03-19  "
      ]
     },
     "execution_count": 37,
     "metadata": {},
     "output_type": "execute_result"
    }
   ],
   "source": [
    "df_covid.loc[df_covid['Idade'] > 135, :]"
   ]
  },
  {
   "cell_type": "code",
   "execution_count": 43,
   "metadata": {},
   "outputs": [
    {
     "data": {
      "text/plain": [
       "Index(['ADAMANTINA', 'ADOLFO', 'AGUAÍ', 'AGUDOS', 'ALAMBARI',\n",
       "       'ALFREDO MARCONDES', 'ALTAIR', 'ALTINÓPOLIS', 'ALTO ALEGRE', 'ALUMÍNIO',\n",
       "       ...\n",
       "       'VÁRZEA PAULISTA', 'ZACARIAS', 'ÁGUAS DA PRATA', 'ÁGUAS DE LINDÓIA',\n",
       "       'ÁGUAS DE SANTA BÁRBARA', 'ÁGUAS DE SÃO PEDRO', 'ÁLVARES FLORENCE',\n",
       "       'ÁLVARES MACHADO', 'ÁLVARO DE CARVALHO', 'ÓLEO'],\n",
       "      dtype='object', length=646)"
      ]
     },
     "execution_count": 43,
     "metadata": {},
     "output_type": "execute_result"
    }
   ],
   "source": [
    "df_covid['Municipio'].value_counts().index.sort_values()"
   ]
  },
  {
   "cell_type": "code",
   "execution_count": null,
   "metadata": {},
   "outputs": [],
   "source": []
  },
  {
   "cell_type": "code",
   "execution_count": null,
   "metadata": {},
   "outputs": [],
   "source": []
  },
  {
   "cell_type": "code",
   "execution_count": null,
   "metadata": {},
   "outputs": [],
   "source": []
  },
  {
   "cell_type": "code",
   "execution_count": null,
   "metadata": {},
   "outputs": [],
   "source": []
  },
  {
   "cell_type": "code",
   "execution_count": null,
   "metadata": {},
   "outputs": [],
   "source": []
  },
  {
   "cell_type": "code",
   "execution_count": null,
   "metadata": {},
   "outputs": [],
   "source": []
  },
  {
   "cell_type": "code",
   "execution_count": null,
   "metadata": {},
   "outputs": [],
   "source": []
  },
  {
   "cell_type": "code",
   "execution_count": 2,
   "metadata": {},
   "outputs": [],
   "source": [
    "# df_acidentes = pd.read_csv(\"dados/acidentes_naofatais.csv\", encoding='cp1252', sep=\";\")\n",
    "# df_casos_covid = pd.read_csv(\"dados/20220817_Casos-e-obitos-ESP.zip\", sep=\";\")"
   ]
  },
  {
   "cell_type": "code",
   "execution_count": 34,
   "metadata": {},
   "outputs": [],
   "source": [
    "# df_casos_covid.shape"
   ]
  },
  {
   "cell_type": "code",
   "execution_count": 35,
   "metadata": {},
   "outputs": [],
   "source": [
    "# df_casos_covid['Obito'].value_counts()"
   ]
  },
  {
   "cell_type": "code",
   "execution_count": 36,
   "metadata": {},
   "outputs": [],
   "source": [
    "# pd.options.display.float_format = \"{:,.2f}\".format"
   ]
  },
  {
   "cell_type": "code",
   "execution_count": 37,
   "metadata": {},
   "outputs": [],
   "source": [
    "# df_casos_covid['Obito'].value_counts()"
   ]
  },
  {
   "cell_type": "code",
   "execution_count": 38,
   "metadata": {},
   "outputs": [],
   "source": [
    "# df_casos_covid.loc[(df_casos_covid['Idade'] < 110) & df_casos_covid['Obito'] == 1, ['Idade']].hist()"
   ]
  },
  {
   "cell_type": "code",
   "execution_count": 39,
   "metadata": {},
   "outputs": [],
   "source": [
    "# df_covid[''].to_datetime(df_casos_covid['Data Inicio Sintomas'], errors='ignore', infer_datetime_format=True).hist(bins=300)"
   ]
  },
  {
   "cell_type": "code",
   "execution_count": null,
   "metadata": {},
   "outputs": [],
   "source": []
  }
 ],
 "metadata": {
  "celltoolbar": "Slideshow",
  "kernelspec": {
   "display_name": "Python 3 (ipykernel)",
   "language": "python",
   "name": "python3"
  },
  "language_info": {
   "codemirror_mode": {
    "name": "ipython",
    "version": 3
   },
   "file_extension": ".py",
   "mimetype": "text/x-python",
   "name": "python",
   "nbconvert_exporter": "python",
   "pygments_lexer": "ipython3",
   "version": "3.8.12"
  },
  "vscode": {
   "interpreter": {
    "hash": "9cedc55b3cbf3c6d99ff990673a8ddd4523edd6f7760ad30a6f7807a45845135"
   }
  }
 },
 "nbformat": 4,
 "nbformat_minor": 2
}
