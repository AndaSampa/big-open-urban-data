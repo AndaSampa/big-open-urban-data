{
 "cells": [
  {
   "cell_type": "markdown",
   "id": "a0676955",
   "metadata": {
    "slideshow": {
     "slide_type": "slide"
    }
   },
   "source": [
    "# Aula1: A complexidade na cidade"
   ]
  },
  {
   "cell_type": "markdown",
   "id": "355500df",
   "metadata": {
    "slideshow": {
     "slide_type": "fragment"
    }
   },
   "source": [
    "> “a cidade é a mais   complexa   das   invenções   humanas,   (...)   na   confluência   da   natureza   com   o artefato” (LÉVI-STRAUSS, 1954, p. 137-138  apud  MOUDON, 1997, p. 3)"
   ]
  },
  {
   "cell_type": "markdown",
   "id": "b3189e18",
   "metadata": {
    "slideshow": {
     "slide_type": "slide"
    }
   },
   "source": [
    "## Último capítulo de Morte e Vida nas Grandes Cidades\n",
    "\n",
    "* Jane Jacobs (1961), quem não leu?\n",
    "* Qual o tipo de problema é a cidade?\n",
    "\n",
    "_http://revistademorfologiaurbana.org/index.php/rmu/article/view/118/64_\n",
    " "
   ]
  },
  {
   "cell_type": "markdown",
   "id": "28406953",
   "metadata": {
    "slideshow": {
     "slide_type": "slide"
    }
   },
   "source": [
    "## A Cidade não é uma árvore\n",
    "\n",
    "* Cristopher Alexander (1961)\n",
    "* Arquiteto, Urbanista e Matemático\n",
    "\n",
    "_http://en.bp.ntu.edu.tw/wp-content/uploads/2011/12/06-Alexander-A-city-is-not-a-tree.pdf_\n",
    "\n"
   ]
  },
  {
   "cell_type": "markdown",
   "id": "034e9848",
   "metadata": {
    "slideshow": {
     "slide_type": "subslide"
    }
   },
   "source": [
    "## Pequeno experimento matemático\n",
    "\n",
    "* Teoria dos conjuntos\n",
    "\n",
    "> Dado 100 pontos no espaço, quantas são as possibilidades de arranjos de conjuntos distintos?\n",
    "\n",
    "$$ 2^{100} = 1,2676506×10^{30} $$\n",
    "\n",
    "https://en.wikipedia.org/wiki/Orders_of_magnitude_(numbers)"
   ]
  },
  {
   "cell_type": "markdown",
   "id": "4065d522",
   "metadata": {
    "slideshow": {
     "slide_type": "slide"
    }
   },
   "source": [
    "## A Teoria da Complexidade de Edgar Morin\n",
    "\n",
    "> \"complexidade é um tecido (complexus: o que é tecido junto) de constituintes heterogêneas inseparavelmente associadas: ela coloca o paradoxo do uno e do múltiplo” (MORIN, 2015, p. 13)\n",
    "\n",
    "> “O pensamento complexo não recusa de modo algum a clareza, a ordem, o determinismo. Ele os considera insuficiente, sabe que não se pode programar a descoberta, o conhecimento, nem a ação” (2015, p. 83)\n",
    "\n",
    "_MORIN, Edgar. Introdução ao Pensamento Complexo. Porto Alegre: Sulina, 2015. 120 p._"
   ]
  },
  {
   "cell_type": "markdown",
   "id": "dc8f24ea",
   "metadata": {
    "slideshow": {
     "slide_type": "slide"
    }
   },
   "source": [
    "## Mas o que a complexidade tem haver com o Urbanismo?\n",
    "\n",
    "> Cogito ergo sum (Penso logo existo)\n",
    "\n",
    "* A simplicidade do planejamento urbano por variáveis simplistas e mono-dimensionais\n",
    "* Moradia vs. Emprego\n",
    "* A família heteronormativa\n",
    "* A cidade compartimentada\n",
    "* Diferente da matemática *os arranjos não precisam fazer sentido para todos*"
   ]
  },
  {
   "cell_type": "markdown",
   "id": "e08c4167",
   "metadata": {
    "slideshow": {
     "slide_type": "slide"
    }
   },
   "source": [
    "## O Positivismo modernista e \"o planejador\" urbano\n",
    "\n",
    "> O pressuposto que pode ser saber o que é melhor para o outro\n",
    "\n",
    "* Ordem e progresso, definido por quem?\n",
    "* Soluções impostas \"top-down\" sem diálogo, sem consenso, servindo a poucos ou a ninguém\n",
    "* Higienismo, um fardo pesado"
   ]
  },
  {
   "cell_type": "markdown",
   "id": "f819be2c",
   "metadata": {
    "slideshow": {
     "slide_type": "slide"
    }
   },
   "source": [
    "## Urbanologia vs. Urbanismo\n",
    "\n",
    "* Emprestado do movimento LGBTQIA+\n",
    "\n",
    "> O contrário de Urbanismo seria Ruralismo? Então por que não temos uma bancada Urbanista? Alias nem temos mais o Ministério das Cidades!\n",
    "\n",
    "_http://seer.spo.ifsp.edu.br/index.php/regrasp/article/view/547/475_"
   ]
  },
  {
   "cell_type": "markdown",
   "id": "08b755f2",
   "metadata": {
    "slideshow": {
     "slide_type": "slide"
    }
   },
   "source": [
    "| Urbanismo     | Urbanologia     |\n",
    "|---------------|-----------------|\n",
    "| Impositivo | Consensual |\n",
    "| Projetivo  | Prescritivo |\n",
    "| Orientado a desenho | Orientado à dados/código |\n",
    "| Contemplativo | Descritivo |\n",
    "| Causal consequencial | Modelos sistêmicos matemáticos |\n",
    "| Mapa se torna realidade | Realidade se torna mapa |\n",
    "| Decisão Hierarquizada | Decisão Horizontalizada |\n",
    "| Rigidez | Espontaneidade |\n",
    "| Regras impositivas | Autonomia e responsividade |\n",
    "| Monodisciplinar | Multidiscplinar |\n",
    "| Escala local ou regional | Escala global |\n",
    "| Homogenidade | Heterogenidade |\n",
    "| Top-Down | Bottom-Up |\n",
    "| Expectativas projetuais | Simulação Computacional |"
   ]
  },
  {
   "cell_type": "markdown",
   "id": "d04424ce",
   "metadata": {
    "slideshow": {
     "slide_type": "slide"
    }
   },
   "source": [
    "> Parece que enquanto o Urbanismo tenta impor um determinado modo de vida urbano, a urbanologia tenta compreender aquilo que talvez ainda precisamos avançar muito.\n",
    "\n",
    "> O primeiro passo para é talvez descrever o problema para começar a fazer sugestões ou até mesmo invenções, como a arquitetura moderna e sobretudo a modernista tentaram fazer."
   ]
  },
  {
   "cell_type": "markdown",
   "id": "c7edda3a",
   "metadata": {
    "slideshow": {
     "slide_type": "slide"
    }
   },
   "source": [
    "## Concluindo Complexidade nas Cidades\n",
    "\n",
    "* Parece que não temos vocação para enxergar a complexidade e problemas complexos como a cidade\n",
    "* Planos simplistas parecem convenientes e como alguma coisa é melhor do que nada, nos apegamos\n",
    "* Mas existem métodos capazes de de nos auxiliar, sobretudo em um cenário de alta disponibilidade computacional\n",
    "* Identificar a similaridade e a diferença parece um bom começo e por isso, Urbanologia ao invés de Urbanismo"
   ]
  },
  {
   "cell_type": "markdown",
   "id": "ed5f3143",
   "metadata": {
    "slideshow": {
     "slide_type": "slide"
    }
   },
   "source": [
    "## Modelando a complexidade\n",
    "\n",
    "> Existem diversas estratégias para representar a complexidade da cidade\n",
    "\n",
    "* Pode-se descrever a diversidade e dar nome à determinados padrões\n",
    "* Pode-se representar redes e graphos e estuda-lo e quantifica-los\n",
    "* Pode-se ainda criar modelos de processos decisórios múltiplos\n",
    "* E ainda temos as técnicas de inteligência artificial e redes neurais entre outras"
   ]
  },
  {
   "cell_type": "markdown",
   "id": "487ac565",
   "metadata": {
    "slideshow": {
     "slide_type": "slide"
    }
   },
   "source": [
    "## A Complexidade pelas dimensões\n",
    "\n",
    "* Dimensões perseptíveis (1D, 2D, 3D)\n",
    "* Dimensões podem ser infinitas ou mesmo fracionárias, fractais\n",
    "* Um modelo de 17 dimensões\n",
    "* Agrupando pelas similaridades"
   ]
  },
  {
   "cell_type": "markdown",
   "id": "b384c1c5",
   "metadata": {
    "slideshow": {
     "slide_type": "slide"
    }
   },
   "source": [
    "## Que tal praticar um pouco?\n",
    "\n",
    "* O cadastro de IPTU\n",
    "* Como funciona o IPTU? CAdastro Multifinalitário, SQL, dados.\n",
    "\n",
    "> Pode ter certeza, toda cidade tem, e vc tem o direito de obter esses dados, ainda vamos falar sobre dados abertos"
   ]
  },
  {
   "cell_type": "markdown",
   "id": "1ff0cc66",
   "metadata": {
    "slideshow": {
     "slide_type": "slide"
    }
   },
   "source": [
    "## Por que usar uma linguagem de programação?\n",
    "\n",
    "> Lembram que o estímulo visual pode nos tornar cegos? Lembram todo aquele papo de pedagogia, era para estimular algumas e alguns de vcs a começarem programar :)\n",
    "\n",
    "* Documentar, persistir e compartilhar o processo\n",
    "* BigData, computação em nuvem, infraestrutura computacional\n",
    "* Diálogo em equipes, ainda vamos falar disso\n",
    "* Afinal, um dia você não sabia usar Planilhas\n",
    "* Mas calma, isso não é um tutorial. É Freiriano esse método\n"
   ]
  },
  {
   "cell_type": "code",
   "execution_count": 1,
   "id": "f953c1dc",
   "metadata": {
    "slideshow": {
     "slide_type": "slide"
    }
   },
   "outputs": [],
   "source": [
    "# Importanto uma biblioteca externa\n",
    "import pandas as pd"
   ]
  },
  {
   "cell_type": "code",
   "execution_count": 2,
   "id": "cc0a3365",
   "metadata": {
    "slideshow": {
     "slide_type": "subslide"
    }
   },
   "outputs": [],
   "source": [
    "# Carregando os dados de IPTU de 2020\n",
    "# e atribuindo o valor a uma variável\n",
    "df_iptu = pd.read_csv('IPTU/IPTU_2020.zip', compression='zip', encoding='iso-8859-9', sep=';', decimal=',')"
   ]
  },
  {
   "cell_type": "code",
   "execution_count": 3,
   "id": "a2e089ca",
   "metadata": {
    "slideshow": {
     "slide_type": "subslide"
    }
   },
   "outputs": [
    {
     "data": {
      "text/html": [
       "<div>\n",
       "<style scoped>\n",
       "    .dataframe tbody tr th:only-of-type {\n",
       "        vertical-align: middle;\n",
       "    }\n",
       "\n",
       "    .dataframe tbody tr th {\n",
       "        vertical-align: top;\n",
       "    }\n",
       "\n",
       "    .dataframe thead th {\n",
       "        text-align: right;\n",
       "    }\n",
       "</style>\n",
       "<table border=\"1\" class=\"dataframe\">\n",
       "  <thead>\n",
       "    <tr style=\"text-align: right;\">\n",
       "      <th></th>\n",
       "      <th>NUMERO DO CONTRIBUINTE</th>\n",
       "      <th>ANO DO EXERCICIO</th>\n",
       "      <th>NUMERO DA NL</th>\n",
       "      <th>DATA DO CADASTRAMENTO</th>\n",
       "      <th>TIPO DE CONTRIBUINTE 1</th>\n",
       "      <th>CPF/CNPJ DO CONTRIBUINTE 1</th>\n",
       "      <th>NOME DO CONTRIBUINTE 1</th>\n",
       "      <th>TIPO DE CONTRIBUINTE 2</th>\n",
       "      <th>CPF/CNPJ DO CONTRIBUINTE 2</th>\n",
       "      <th>NOME DO CONTRIBUINTE 2</th>\n",
       "      <th>...</th>\n",
       "      <th>ANO DA CONSTRUCAO CORRIGIDO</th>\n",
       "      <th>QUANTIDADE DE PAVIMENTOS</th>\n",
       "      <th>TESTADA PARA CALCULO</th>\n",
       "      <th>TIPO DE USO DO IMOVEL</th>\n",
       "      <th>TIPO DE PADRAO DA CONSTRUCAO</th>\n",
       "      <th>TIPO DE TERRENO</th>\n",
       "      <th>FATOR DE OBSOLESCENCIA</th>\n",
       "      <th>ANO DE INICIO DA VIDA DO CONTRIBUINTE</th>\n",
       "      <th>MES DE INICIO DA VIDA DO CONTRIBUINTE</th>\n",
       "      <th>FASE DO CONTRIBUINTE</th>\n",
       "    </tr>\n",
       "  </thead>\n",
       "  <tbody>\n",
       "    <tr>\n",
       "      <th>0</th>\n",
       "      <td>0010030001-4</td>\n",
       "      <td>2020</td>\n",
       "      <td>1</td>\n",
       "      <td>11/01/20</td>\n",
       "      <td>PESSOA FISICA (CPF)</td>\n",
       "      <td>XXXXXX0214XXXX</td>\n",
       "      <td>MARCIO MOURCHED</td>\n",
       "      <td>NaN</td>\n",
       "      <td></td>\n",
       "      <td>NaN</td>\n",
       "      <td>...</td>\n",
       "      <td>1924</td>\n",
       "      <td>1</td>\n",
       "      <td>13.00</td>\n",
       "      <td>Loja</td>\n",
       "      <td>Comercial horizontal - padrão B</td>\n",
       "      <td>De esquina</td>\n",
       "      <td>0.2</td>\n",
       "      <td>1963</td>\n",
       "      <td>1</td>\n",
       "      <td>0</td>\n",
       "    </tr>\n",
       "    <tr>\n",
       "      <th>1</th>\n",
       "      <td>0010030002-2</td>\n",
       "      <td>2020</td>\n",
       "      <td>1</td>\n",
       "      <td>11/01/20</td>\n",
       "      <td>PESSOA FISICA (CPF)</td>\n",
       "      <td>XXXXXX0214XXXX</td>\n",
       "      <td>MARCIO MOURCHED</td>\n",
       "      <td>NaN</td>\n",
       "      <td></td>\n",
       "      <td>NaN</td>\n",
       "      <td>...</td>\n",
       "      <td>1944</td>\n",
       "      <td>1</td>\n",
       "      <td>6.00</td>\n",
       "      <td>Loja</td>\n",
       "      <td>Comercial horizontal - padrão B</td>\n",
       "      <td>Normal</td>\n",
       "      <td>0.2</td>\n",
       "      <td>1963</td>\n",
       "      <td>1</td>\n",
       "      <td>0</td>\n",
       "    </tr>\n",
       "    <tr>\n",
       "      <th>2</th>\n",
       "      <td>0010030003-0</td>\n",
       "      <td>2020</td>\n",
       "      <td>1</td>\n",
       "      <td>11/01/20</td>\n",
       "      <td>PESSOA FISICA (CPF)</td>\n",
       "      <td>XXXXXX0214XXXX</td>\n",
       "      <td>MARCIO MOURCHED</td>\n",
       "      <td>NaN</td>\n",
       "      <td></td>\n",
       "      <td>NaN</td>\n",
       "      <td>...</td>\n",
       "      <td>1965</td>\n",
       "      <td>2</td>\n",
       "      <td>7.85</td>\n",
       "      <td>Loja</td>\n",
       "      <td>Comercial horizontal - padrão B</td>\n",
       "      <td>Normal</td>\n",
       "      <td>0.3</td>\n",
       "      <td>1963</td>\n",
       "      <td>1</td>\n",
       "      <td>0</td>\n",
       "    </tr>\n",
       "    <tr>\n",
       "      <th>3</th>\n",
       "      <td>0010030004-9</td>\n",
       "      <td>2020</td>\n",
       "      <td>1</td>\n",
       "      <td>11/01/20</td>\n",
       "      <td>PESSOA FISICA (CPF)</td>\n",
       "      <td>XXXXXX2094XXXX</td>\n",
       "      <td>AUGUSTO CESAR DE MATTOS JUNIOR</td>\n",
       "      <td>NaN</td>\n",
       "      <td></td>\n",
       "      <td>NaN</td>\n",
       "      <td>...</td>\n",
       "      <td>1944</td>\n",
       "      <td>1</td>\n",
       "      <td>6.05</td>\n",
       "      <td>Loja</td>\n",
       "      <td>Comercial horizontal - padrão B</td>\n",
       "      <td>Normal</td>\n",
       "      <td>0.2</td>\n",
       "      <td>1963</td>\n",
       "      <td>1</td>\n",
       "      <td>0</td>\n",
       "    </tr>\n",
       "    <tr>\n",
       "      <th>4</th>\n",
       "      <td>0010030005-7</td>\n",
       "      <td>2020</td>\n",
       "      <td>1</td>\n",
       "      <td>11/01/20</td>\n",
       "      <td>PESSOA FISICA (CPF)</td>\n",
       "      <td>XXXXXX2094XXXX</td>\n",
       "      <td>AUGUSTO CESAR DE MATTOS JUNIOR</td>\n",
       "      <td>NaN</td>\n",
       "      <td></td>\n",
       "      <td>NaN</td>\n",
       "      <td>...</td>\n",
       "      <td>1944</td>\n",
       "      <td>1</td>\n",
       "      <td>6.70</td>\n",
       "      <td>Loja</td>\n",
       "      <td>Comercial horizontal - padrão B</td>\n",
       "      <td>Normal</td>\n",
       "      <td>0.2</td>\n",
       "      <td>1963</td>\n",
       "      <td>1</td>\n",
       "      <td>0</td>\n",
       "    </tr>\n",
       "    <tr>\n",
       "      <th>...</th>\n",
       "      <td>...</td>\n",
       "      <td>...</td>\n",
       "      <td>...</td>\n",
       "      <td>...</td>\n",
       "      <td>...</td>\n",
       "      <td>...</td>\n",
       "      <td>...</td>\n",
       "      <td>...</td>\n",
       "      <td>...</td>\n",
       "      <td>...</td>\n",
       "      <td>...</td>\n",
       "      <td>...</td>\n",
       "      <td>...</td>\n",
       "      <td>...</td>\n",
       "      <td>...</td>\n",
       "      <td>...</td>\n",
       "      <td>...</td>\n",
       "      <td>...</td>\n",
       "      <td>...</td>\n",
       "      <td>...</td>\n",
       "      <td>...</td>\n",
       "    </tr>\n",
       "    <tr>\n",
       "      <th>3498639</th>\n",
       "      <td>3101180238-1</td>\n",
       "      <td>2020</td>\n",
       "      <td>1</td>\n",
       "      <td>11/01/20</td>\n",
       "      <td>PESSOA FISICA (CPF)</td>\n",
       "      <td>XXXXXX5127XXXX</td>\n",
       "      <td>CECILIA OTUKA</td>\n",
       "      <td>NaN</td>\n",
       "      <td></td>\n",
       "      <td>NaN</td>\n",
       "      <td>...</td>\n",
       "      <td>1978</td>\n",
       "      <td>5</td>\n",
       "      <td>0.00</td>\n",
       "      <td>Apartamento em condomínio</td>\n",
       "      <td>Residencial vertical - padrão B</td>\n",
       "      <td>De esquina</td>\n",
       "      <td>0.2</td>\n",
       "      <td>1985</td>\n",
       "      <td>1</td>\n",
       "      <td>0</td>\n",
       "    </tr>\n",
       "    <tr>\n",
       "      <th>3498640</th>\n",
       "      <td>3101180239-1</td>\n",
       "      <td>2020</td>\n",
       "      <td>1</td>\n",
       "      <td>11/01/20</td>\n",
       "      <td>PESSOA FISICA (CPF)</td>\n",
       "      <td>XXXXXX6436XXXX</td>\n",
       "      <td>JOSE ESTANISLAU CAMPOS MACHADO FILHO</td>\n",
       "      <td>NaN</td>\n",
       "      <td></td>\n",
       "      <td>NaN</td>\n",
       "      <td>...</td>\n",
       "      <td>1978</td>\n",
       "      <td>5</td>\n",
       "      <td>0.00</td>\n",
       "      <td>Apartamento em condomínio</td>\n",
       "      <td>Residencial vertical - padrão B</td>\n",
       "      <td>De esquina</td>\n",
       "      <td>0.2</td>\n",
       "      <td>1985</td>\n",
       "      <td>1</td>\n",
       "      <td>0</td>\n",
       "    </tr>\n",
       "    <tr>\n",
       "      <th>3498641</th>\n",
       "      <td>3101180240-3</td>\n",
       "      <td>2020</td>\n",
       "      <td>1</td>\n",
       "      <td>11/01/20</td>\n",
       "      <td>PESSOA FISICA (CPF)</td>\n",
       "      <td>XXXXXX6473XXXX</td>\n",
       "      <td>DOUGLAS MACEDO</td>\n",
       "      <td>PESSOA FISICA (CPF)</td>\n",
       "      <td>XXXXXX9655XXXX</td>\n",
       "      <td>JOICE FERNANDA PAIXAO MACEDO</td>\n",
       "      <td>...</td>\n",
       "      <td>1978</td>\n",
       "      <td>5</td>\n",
       "      <td>0.00</td>\n",
       "      <td>Apartamento em condomínio</td>\n",
       "      <td>Residencial vertical - padrão B</td>\n",
       "      <td>De esquina</td>\n",
       "      <td>0.2</td>\n",
       "      <td>1985</td>\n",
       "      <td>1</td>\n",
       "      <td>0</td>\n",
       "    </tr>\n",
       "    <tr>\n",
       "      <th>3498642</th>\n",
       "      <td>3101190001-4</td>\n",
       "      <td>2020</td>\n",
       "      <td>1</td>\n",
       "      <td>11/01/20</td>\n",
       "      <td>PESSOA JURIDICA (CNPJ)</td>\n",
       "      <td>XXXXXXXXXXXXXX</td>\n",
       "      <td>ESTADO DE SAO PAULO</td>\n",
       "      <td>NaN</td>\n",
       "      <td></td>\n",
       "      <td>NaN</td>\n",
       "      <td>...</td>\n",
       "      <td>0</td>\n",
       "      <td>0</td>\n",
       "      <td>0.00</td>\n",
       "      <td>Terreno</td>\n",
       "      <td>TERRENO</td>\n",
       "      <td>De esquina</td>\n",
       "      <td>0.0</td>\n",
       "      <td>1988</td>\n",
       "      <td>1</td>\n",
       "      <td>0</td>\n",
       "    </tr>\n",
       "    <tr>\n",
       "      <th>3498643</th>\n",
       "      <td>3101200001-7</td>\n",
       "      <td>2020</td>\n",
       "      <td>1</td>\n",
       "      <td>11/01/20</td>\n",
       "      <td>PESSOA JURIDICA (CNPJ)</td>\n",
       "      <td>XXXXXXXXXXXXXX</td>\n",
       "      <td>ESTADO DE SAO PAULO</td>\n",
       "      <td>NaN</td>\n",
       "      <td></td>\n",
       "      <td>NaN</td>\n",
       "      <td>...</td>\n",
       "      <td>0</td>\n",
       "      <td>0</td>\n",
       "      <td>500.00</td>\n",
       "      <td>Terreno</td>\n",
       "      <td>TERRENO</td>\n",
       "      <td>Normal</td>\n",
       "      <td>0.0</td>\n",
       "      <td>1988</td>\n",
       "      <td>1</td>\n",
       "      <td>0</td>\n",
       "    </tr>\n",
       "  </tbody>\n",
       "</table>\n",
       "<p>3498644 rows × 35 columns</p>\n",
       "</div>"
      ],
      "text/plain": [
       "        NUMERO DO CONTRIBUINTE  ANO DO EXERCICIO  NUMERO DA NL  \\\n",
       "0                 0010030001-4              2020             1   \n",
       "1                 0010030002-2              2020             1   \n",
       "2                 0010030003-0              2020             1   \n",
       "3                 0010030004-9              2020             1   \n",
       "4                 0010030005-7              2020             1   \n",
       "...                        ...               ...           ...   \n",
       "3498639           3101180238-1              2020             1   \n",
       "3498640           3101180239-1              2020             1   \n",
       "3498641           3101180240-3              2020             1   \n",
       "3498642           3101190001-4              2020             1   \n",
       "3498643           3101200001-7              2020             1   \n",
       "\n",
       "        DATA DO CADASTRAMENTO  TIPO DE CONTRIBUINTE 1  \\\n",
       "0                    11/01/20     PESSOA FISICA (CPF)   \n",
       "1                    11/01/20     PESSOA FISICA (CPF)   \n",
       "2                    11/01/20     PESSOA FISICA (CPF)   \n",
       "3                    11/01/20     PESSOA FISICA (CPF)   \n",
       "4                    11/01/20     PESSOA FISICA (CPF)   \n",
       "...                       ...                     ...   \n",
       "3498639              11/01/20     PESSOA FISICA (CPF)   \n",
       "3498640              11/01/20     PESSOA FISICA (CPF)   \n",
       "3498641              11/01/20     PESSOA FISICA (CPF)   \n",
       "3498642              11/01/20  PESSOA JURIDICA (CNPJ)   \n",
       "3498643              11/01/20  PESSOA JURIDICA (CNPJ)   \n",
       "\n",
       "        CPF/CNPJ DO CONTRIBUINTE 1                NOME DO CONTRIBUINTE 1  \\\n",
       "0                   XXXXXX0214XXXX                       MARCIO MOURCHED   \n",
       "1                   XXXXXX0214XXXX                       MARCIO MOURCHED   \n",
       "2                   XXXXXX0214XXXX                       MARCIO MOURCHED   \n",
       "3                   XXXXXX2094XXXX        AUGUSTO CESAR DE MATTOS JUNIOR   \n",
       "4                   XXXXXX2094XXXX        AUGUSTO CESAR DE MATTOS JUNIOR   \n",
       "...                            ...                                   ...   \n",
       "3498639             XXXXXX5127XXXX                         CECILIA OTUKA   \n",
       "3498640             XXXXXX6436XXXX  JOSE ESTANISLAU CAMPOS MACHADO FILHO   \n",
       "3498641             XXXXXX6473XXXX                        DOUGLAS MACEDO   \n",
       "3498642             XXXXXXXXXXXXXX                   ESTADO DE SAO PAULO   \n",
       "3498643             XXXXXXXXXXXXXX                   ESTADO DE SAO PAULO   \n",
       "\n",
       "        TIPO DE CONTRIBUINTE 2 CPF/CNPJ DO CONTRIBUINTE 2  \\\n",
       "0                          NaN                              \n",
       "1                          NaN                              \n",
       "2                          NaN                              \n",
       "3                          NaN                              \n",
       "4                          NaN                              \n",
       "...                        ...                        ...   \n",
       "3498639                    NaN                              \n",
       "3498640                    NaN                              \n",
       "3498641    PESSOA FISICA (CPF)             XXXXXX9655XXXX   \n",
       "3498642                    NaN                              \n",
       "3498643                    NaN                              \n",
       "\n",
       "               NOME DO CONTRIBUINTE 2  ... ANO DA CONSTRUCAO CORRIGIDO  \\\n",
       "0                                 NaN  ...                        1924   \n",
       "1                                 NaN  ...                        1944   \n",
       "2                                 NaN  ...                        1965   \n",
       "3                                 NaN  ...                        1944   \n",
       "4                                 NaN  ...                        1944   \n",
       "...                               ...  ...                         ...   \n",
       "3498639                           NaN  ...                        1978   \n",
       "3498640                           NaN  ...                        1978   \n",
       "3498641  JOICE FERNANDA PAIXAO MACEDO  ...                        1978   \n",
       "3498642                           NaN  ...                           0   \n",
       "3498643                           NaN  ...                           0   \n",
       "\n",
       "        QUANTIDADE DE PAVIMENTOS TESTADA PARA CALCULO  \\\n",
       "0                              1                13.00   \n",
       "1                              1                 6.00   \n",
       "2                              2                 7.85   \n",
       "3                              1                 6.05   \n",
       "4                              1                 6.70   \n",
       "...                          ...                  ...   \n",
       "3498639                        5                 0.00   \n",
       "3498640                        5                 0.00   \n",
       "3498641                        5                 0.00   \n",
       "3498642                        0                 0.00   \n",
       "3498643                        0               500.00   \n",
       "\n",
       "             TIPO DE USO DO IMOVEL     TIPO DE PADRAO DA CONSTRUCAO  \\\n",
       "0                             Loja  Comercial horizontal - padrão B   \n",
       "1                             Loja  Comercial horizontal - padrão B   \n",
       "2                             Loja  Comercial horizontal - padrão B   \n",
       "3                             Loja  Comercial horizontal - padrão B   \n",
       "4                             Loja  Comercial horizontal - padrão B   \n",
       "...                            ...                              ...   \n",
       "3498639  Apartamento em condomínio  Residencial vertical - padrão B   \n",
       "3498640  Apartamento em condomínio  Residencial vertical - padrão B   \n",
       "3498641  Apartamento em condomínio  Residencial vertical - padrão B   \n",
       "3498642                    Terreno                          TERRENO   \n",
       "3498643                    Terreno                          TERRENO   \n",
       "\n",
       "        TIPO DE TERRENO FATOR DE OBSOLESCENCIA  \\\n",
       "0            De esquina                    0.2   \n",
       "1                Normal                    0.2   \n",
       "2                Normal                    0.3   \n",
       "3                Normal                    0.2   \n",
       "4                Normal                    0.2   \n",
       "...                 ...                    ...   \n",
       "3498639      De esquina                    0.2   \n",
       "3498640      De esquina                    0.2   \n",
       "3498641      De esquina                    0.2   \n",
       "3498642      De esquina                    0.0   \n",
       "3498643          Normal                    0.0   \n",
       "\n",
       "        ANO DE INICIO DA VIDA DO CONTRIBUINTE  \\\n",
       "0                                        1963   \n",
       "1                                        1963   \n",
       "2                                        1963   \n",
       "3                                        1963   \n",
       "4                                        1963   \n",
       "...                                       ...   \n",
       "3498639                                  1985   \n",
       "3498640                                  1985   \n",
       "3498641                                  1985   \n",
       "3498642                                  1988   \n",
       "3498643                                  1988   \n",
       "\n",
       "         MES DE INICIO DA VIDA DO CONTRIBUINTE  FASE DO CONTRIBUINTE  \n",
       "0                                            1                     0  \n",
       "1                                            1                     0  \n",
       "2                                            1                     0  \n",
       "3                                            1                     0  \n",
       "4                                            1                     0  \n",
       "...                                        ...                   ...  \n",
       "3498639                                      1                     0  \n",
       "3498640                                      1                     0  \n",
       "3498641                                      1                     0  \n",
       "3498642                                      1                     0  \n",
       "3498643                                      1                     0  \n",
       "\n",
       "[3498644 rows x 35 columns]"
      ]
     },
     "execution_count": 3,
     "metadata": {},
     "output_type": "execute_result"
    }
   ],
   "source": [
    "df_iptu"
   ]
  },
  {
   "cell_type": "code",
   "execution_count": null,
   "id": "4545fbb9",
   "metadata": {},
   "outputs": [],
   "source": []
  }
 ],
 "metadata": {
  "celltoolbar": "Slideshow",
  "kernelspec": {
   "display_name": "Python 3.8.11 64-bit ('geo': conda)",
   "language": "python",
   "name": "python3811jvsc74a57bd01e94f94c3dc9cb9ecdb50465f759d70d8afbee71b2fe12a78bdcd721d76e1ec6"
  },
  "language_info": {
   "codemirror_mode": {
    "name": "ipython",
    "version": 3
   },
   "file_extension": ".py",
   "mimetype": "text/x-python",
   "name": "python",
   "nbconvert_exporter": "python",
   "pygments_lexer": "ipython3",
   "version": "3.8.11"
  }
 },
 "nbformat": 4,
 "nbformat_minor": 5
}
