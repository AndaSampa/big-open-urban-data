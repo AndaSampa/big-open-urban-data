{
 "cells": [
  {
   "cell_type": "markdown",
   "id": "a0676955",
   "metadata": {
    "slideshow": {
     "slide_type": "slide"
    }
   },
   "source": [
    "# Aula1: A complexidade na cidade"
   ]
  },
  {
   "cell_type": "markdown",
   "id": "355500df",
   "metadata": {
    "slideshow": {
     "slide_type": "fragment"
    }
   },
   "source": [
    "> “a cidade é a mais   complexa   das   invenções   humanas,   (...)   na   confluência   da   natureza   com   o artefato” (LÉVI-STRAUSS, 1954, p. 137-138  apud  MOUDON, 1997, p. 3)"
   ]
  },
  {
   "cell_type": "markdown",
   "id": "b3189e18",
   "metadata": {
    "slideshow": {
     "slide_type": "slide"
    }
   },
   "source": [
    "## Último capítulo de Morte e Vida nas Grandes Cidades\n",
    "\n",
    "* Jane Jacobs (1961), quem não leu?\n",
    "* Qual o tipo de problema é a cidade?\n",
    "\n",
    "_http://revistademorfologiaurbana.org/index.php/rmu/article/view/118/64_\n",
    " "
   ]
  },
  {
   "cell_type": "markdown",
   "id": "28406953",
   "metadata": {
    "slideshow": {
     "slide_type": "slide"
    }
   },
   "source": [
    "## A Cidade não é uma árvore\n",
    "\n",
    "* Cristopher Alexander (1961)\n",
    "* Arquiteto, Urbanista e Matemático\n",
    "\n",
    "_http://en.bp.ntu.edu.tw/wp-content/uploads/2011/12/06-Alexander-A-city-is-not-a-tree.pdf_\n",
    "\n"
   ]
  },
  {
   "cell_type": "markdown",
   "id": "034e9848",
   "metadata": {
    "slideshow": {
     "slide_type": "subslide"
    }
   },
   "source": [
    "## Pequeno experimento matemático\n",
    "\n",
    "* Teoria dos conjuntos\n",
    "\n",
    "> Dado 100 pontos no espaço, quantas são as possibilidades de arranjos de conjuntos distintos?\n",
    "\n",
    "$$ 2^{100} = 1,2676506×10^{30} $$\n",
    "\n",
    "https://en.wikipedia.org/wiki/Orders_of_magnitude_(numbers)"
   ]
  },
  {
   "cell_type": "markdown",
   "id": "4065d522",
   "metadata": {
    "slideshow": {
     "slide_type": "slide"
    }
   },
   "source": [
    "## A Teoria da Complexidade de Edgar Morin\n",
    "\n",
    "> \"complexidade é um tecido (complexus: o que é tecido junto) de constituintes heterogêneas inseparavelmente associadas: ela coloca o paradoxo do uno e do múltiplo” (MORIN, 2015, p. 13)\n",
    "\n",
    "> “O pensamento complexo não recusa de modo algum a clareza, a ordem, o determinismo. Ele os considera insuficiente, sabe que não se pode programar a descoberta, o conhecimento, nem a ação” (2015, p. 83)\n",
    "\n",
    "_MORIN, Edgar. Introdução ao Pensamento Complexo. Porto Alegre: Sulina, 2015. 120 p._"
   ]
  },
  {
   "cell_type": "markdown",
   "id": "dc8f24ea",
   "metadata": {
    "slideshow": {
     "slide_type": "slide"
    }
   },
   "source": [
    "## Mas o que a complexidade tem haver com o Urbanismo?\n",
    "\n",
    "> Cogito ergo sum (Penso logo existo)\n",
    "\n",
    "* A simplicidade do planejamento urbano por variáveis simplistas e mono-dimensionais\n",
    "* Moradia vs. Emprego\n",
    "* A família heteronormativa\n",
    "* A cidade compartimentada\n",
    "* Diferente da matemática *os arranjos não precisam fazer sentido para todos*"
   ]
  },
  {
   "cell_type": "markdown",
   "id": "e08c4167",
   "metadata": {
    "slideshow": {
     "slide_type": "slide"
    }
   },
   "source": [
    "## O Positivismo modernista e \"o planejador\" urbano\n",
    "\n",
    "> O pressuposto que pode ser saber o que é melhor para o outro\n",
    "\n",
    "* Ordem e progresso, definido por quem?\n",
    "* Soluções impostas \"top-down\" sem diálogo, sem consenso, servindo a poucos ou a ninguém\n",
    "* Higienismo, um fardo pesado"
   ]
  },
  {
   "cell_type": "markdown",
   "id": "f819be2c",
   "metadata": {
    "slideshow": {
     "slide_type": "slide"
    }
   },
   "source": [
    "## Urbanologia vs. Urbanismo\n",
    "\n",
    "* Emprestado do movimento LGBTQIA+\n",
    "\n",
    "> O contrário de Urbanismo seria Ruralismo? Então por que não temos uma bancada Urbanista? Alias nem temos mais o Ministério das Cidades!\n",
    "\n",
    "_http://seer.spo.ifsp.edu.br/index.php/regrasp/article/view/547/475_"
   ]
  },
  {
   "cell_type": "markdown",
   "id": "08b755f2",
   "metadata": {
    "slideshow": {
     "slide_type": "slide"
    }
   },
   "source": [
    "| Urbanismo     | Urbanologia     |\n",
    "|---------------|-----------------|\n",
    "| Impositivo | Consensual |\n",
    "| Projetivo  | Prescritivo |\n",
    "| Orientado a desenho | Orientado à dados |\n",
    "| Contemplativo | Descritivo |\n",
    "| Causal consequencial | Modelos sistêmicos matemáticos |\n",
    "| Mapa se torna realidade | Realidade se torna mapa |\n",
    "| Decisão Hierarquizada | Decisão Horizontalizada |\n",
    "| Rigidez | Espontaneidade |\n",
    "| Regras impositivas | Autonomia e responsividade |\n",
    "| Monodisciplinar | Multidiscplinar |\n",
    "| Escala local ou regional | Escala global |\n",
    "| Homogenidade | Heterogenidade |\n",
    "| Top-Down | Bottom-Up |\n",
    "| Expectativas projetuais | Simulação Computacional |"
   ]
  },
  {
   "cell_type": "markdown",
   "id": "d04424ce",
   "metadata": {
    "slideshow": {
     "slide_type": "slide"
    }
   },
   "source": [
    "> Parece que enquanto o Urbanismo tenta impor um determinado modo de vida urbano, a urbanologia tenta compreender aquilo que talvez ainda precisamos avançar muito.\n",
    "\n",
    "> O primeiro passo para é talvez descrever o problema para começar a fazer sugestões ou até mesmo invenções, como a arquitetura moderna e sobretudo a modernista tentaram fazer."
   ]
  },
  {
   "cell_type": "markdown",
   "id": "c7edda3a",
   "metadata": {
    "slideshow": {
     "slide_type": "slide"
    }
   },
   "source": [
    "## Concluindo Complexidade nas Cidades\n",
    "\n",
    "* Parece que não temos vocação para enxergar a complexidade e problemas complexos como a cidade\n",
    "* Planos simplistas parecem convenientes e como alguma coisa é melhor do que nada, nos apegamos\n",
    "* Mas existem métodos capazes de de nos auxiliar, sobretudo em um cenário de alta disponibilidade computacional\n",
    "* Identificar a similaridade e a diferença parece um bom começo e por isso, Urbanologia ao invés de Urbanismo"
   ]
  },
  {
   "cell_type": "markdown",
   "id": "ed5f3143",
   "metadata": {
    "slideshow": {
     "slide_type": "slide"
    }
   },
   "source": [
    "## Modelando a complexidade\n",
    "\n",
    "> Existem diversas estratégias para representar a complexidade da cidade\n",
    "\n",
    "* Pode-se descrever a diversidade e dar nome à determinados padrões\n",
    "* Pode-se representar redes e graphos e estuda-lo e quantifica-los\n",
    "* Pode-se ainda criar modelos de processos decisórios múltiplos\n",
    "* E ainda temos as técnicas de inteligência artificial e redes neurais entre outras"
   ]
  },
  {
   "cell_type": "markdown",
   "id": "487ac565",
   "metadata": {
    "slideshow": {
     "slide_type": "slide"
    }
   },
   "source": [
    "## A Complexidade pelas dimensões\n",
    "\n",
    "* Dimensões perseptíveis (1D, 2D, 3D)\n",
    "* Dimensões podem ser infinitas ou mesmo fracionárias, fractais\n",
    "* Um modelo de 17 dimensões\n",
    "* Agrupando pelas similaridades"
   ]
  },
  {
   "cell_type": "markdown",
   "id": "b384c1c5",
   "metadata": {
    "slideshow": {
     "slide_type": "slide"
    }
   },
   "source": [
    "## Que tal praticar um pouco?\n",
    "\n",
    "* O cadastro de IPTU\n",
    "* Como funciona o IPTU? CAdastro Multifinalitário, SQL, dados.\n",
    "\n",
    "> Pode ter certeza, toda cidade tem, e vc tem o direito de obter esses dados, ainda vamos falar sobre dados abertos"
   ]
  },
  {
   "cell_type": "code",
   "execution_count": null,
   "id": "6f54f5f2",
   "metadata": {},
   "outputs": [],
   "source": []
  }
 ],
 "metadata": {
  "celltoolbar": "Slideshow",
  "kernelspec": {
   "display_name": "Python 3.8.11 64-bit ('geo': conda)",
   "language": "python",
   "name": "python3811jvsc74a57bd01e94f94c3dc9cb9ecdb50465f759d70d8afbee71b2fe12a78bdcd721d76e1ec6"
  },
  "language_info": {
   "codemirror_mode": {
    "name": "ipython",
    "version": 3
   },
   "file_extension": ".py",
   "mimetype": "text/x-python",
   "name": "python",
   "nbconvert_exporter": "python",
   "pygments_lexer": "ipython3",
   "version": "3.8.11"
  }
 },
 "nbformat": 4,
 "nbformat_minor": 5
}
