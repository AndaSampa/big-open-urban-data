{
 "cells": [
  {
   "cell_type": "markdown",
   "id": "d5f48328",
   "metadata": {
    "slideshow": {
     "slide_type": "slide"
    }
   },
   "source": [
    "# Geotecnologias e ciência de dados para cidades complexas: Urbanologia.\n",
    "\n",
    "_Fernando Gomes (@feromes)_"
   ]
  },
  {
   "cell_type": "markdown",
   "id": "2c20a693",
   "metadata": {
    "slideshow": {
     "slide_type": "slide"
    }
   },
   "source": [
    "## Aula 0: Agenda, formação do grupo e proposta"
   ]
  },
  {
   "cell_type": "markdown",
   "id": "f7cba810",
   "metadata": {
    "slideshow": {
     "slide_type": "slide"
    }
   },
   "source": [
    "### Agenda\n",
    "\n",
    "* Apresentação da ementa (Plano)\n",
    "* Bases e princípios pedagógicos (Proposta)\n",
    "* As disciplinas envolvidas (Escopo)\n",
    "* Interlocução e apresentaçoes das inquietações (consenso/consentimento)\n",
    "* Proposta de trabalho prático (Novos Planos)\n",
    "* Gerando rede (Princípios)\n",
    "* Intervalo \n",
    "* Início da próxima aula/tópico\n"
   ]
  },
  {
   "cell_type": "markdown",
   "id": "b77d36f1",
   "metadata": {
    "slideshow": {
     "slide_type": "slide"
    }
   },
   "source": [
    "## Antes de começar\n",
    "\n",
    "> Somos um grupo e podemos pensar, nos identificar e produzir coletivamente, que tal uma anotação coletiva?\n",
    "\n",
    "https://pad.education/p/geotecnologias-para-cidades-complexas"
   ]
  },
  {
   "cell_type": "markdown",
   "id": "f5aa286d",
   "metadata": {
    "slideshow": {
     "slide_type": "slide"
    }
   },
   "source": [
    "## Apresentação da Ementa\n",
    "\n",
    "> Ementa é sinônimo de: lembrança, sinopse, sumário, síntese, apontamento, cardápio, nota, rubrica \n",
    "\n",
    "https://github.com/feromes/geotecnologias-para-cidades-complexas"
   ]
  },
  {
   "cell_type": "markdown",
   "id": "4d887a46",
   "metadata": {
    "slideshow": {
     "slide_type": "slide"
    }
   },
   "source": [
    "## Bases e princípios pedagógicos\n",
    "\n",
    "> Vamos refletir sobre aprender a aprender?\n"
   ]
  },
  {
   "cell_type": "markdown",
   "id": "d988ab50",
   "metadata": {
    "slideshow": {
     "slide_type": "slide"
    }
   },
   "source": [
    "## Como aprendemos a andar\n",
    "\n",
    "* Andar é algo muito complexo e multidisciplinar\n",
    "* O estímulo visual é muito eficiente e pode cegar frequentemente\n",
    "\n",
    "> Crianças cegas demoram mais para aprender a andar?\n",
    "\n",
    "_Heinrich Tröster, Michael Brambring,\n",
    "Early motor development in blind infants,\n",
    "Journal of Applied Developmental Psychology,\n",
    "Volume 14, Issue 1,\n",
    "1993,\n",
    "Pages 83-106,\n",
    "ISSN 0193-3973_\n"
   ]
  },
  {
   "cell_type": "markdown",
   "id": "d5561286",
   "metadata": {
    "slideshow": {
     "slide_type": "slide"
    }
   },
   "source": [
    "## Hipóteses de escrita\n",
    "\n",
    "https://pt.slideshare.net/chagasl/hipteses-da-escrita\n",
    "\n",
    "> Será que somos assim em relação à outros aprendizados na vida adulta?"
   ]
  },
  {
   "cell_type": "markdown",
   "id": "541cb9d3",
   "metadata": {
    "slideshow": {
     "slide_type": "slide"
    }
   },
   "source": [
    "## Método Freiriano\n",
    "\n",
    "* Alfabetização de adultos\n",
    "* Sem cartilha -> Palavras Geradoras -> Divisão silábica -> Novas Palavras -> Consientização\n",
    "\n",
    "> Quando a educação é opressora o oprimido se torna o opressor\n",
    "\n",
    "_Pedagogia do oprimido. New York: Herder & Herder, 1970 (manuscrito em português de 1968). Publicado com Prefácio de Ernani Maria Fiori. Rio de Janeiro, Paz e Terra, 218 p., (23 ed., 1994, 184 p.)._"
   ]
  },
  {
   "cell_type": "markdown",
   "id": "c2feea48",
   "metadata": {
    "slideshow": {
     "slide_type": "slide"
    }
   },
   "source": [
    "## Indo além\n",
    "\n",
    "> Educação é conservação e transgreçao\n",
    "\n",
    "* Galileu, Newton, Einstein, Hawking, ...\n",
    "* Ciência não é sobre ter certeza, mas sobre dúvidar"
   ]
  },
  {
   "cell_type": "markdown",
   "id": "4ba91581",
   "metadata": {
    "slideshow": {
     "slide_type": "slide"
    }
   },
   "source": [
    "## Concluindo bases pedagógicas\n",
    "\n",
    "* Somos seres diversos, cegos para alguma coisa\n",
    "* Cada um de nós está em um nível de compreençao sobre cada tópico\n",
    "* Não somos caixa vazia nem folha em branco, temos repertório e muito a falar\n",
    "* Para ir além que tal organizar nossas dúvidas e inquietações"
   ]
  },
  {
   "cell_type": "markdown",
   "id": "488b646a",
   "metadata": {
    "slideshow": {
     "slide_type": "slide"
    }
   },
   "source": [
    "## As multi-disciplinas desta disciplina\n",
    "\n",
    "* Teoria da arquitetura e do Urbanismo\n",
    "* Matemática, programação, ciencia de dados e um pouco de física\n",
    "* Filosofia, sociologia, ciência política, política, e um pouco de história\n",
    "* Geografia, topografia e geodesia\n",
    "> Multidisciplinaridade"
   ]
  },
  {
   "cell_type": "markdown",
   "id": "038a430c",
   "metadata": {
    "slideshow": {
     "slide_type": "slide"
    }
   },
   "source": [
    "## Coisas que não serão encontradas nesta disciplina (Recorte temático)\n",
    "\n",
    "* Linhas do tempo\n",
    "* Tutoriais\n",
    "* Informações sem fonte\n",
    "* Certezas incontestáveis, está tudo em aberto para ser repensado\n",
    "* Softwares proprietários e progamas \"closed box\"\n",
    "* Sexismo, racismo, fascismo, autoritarismo, especismo, homofobia, transfobia, nem discurso de ódio.\n",
    "* Endeusamento ou idolatria de autoras e autores https://edisciplinas.usp.br/pluginfile.php/5247383/mod_resource/content/1/bell%20hooks%20sobre%20Paulo%20Freire.pdf"
   ]
  },
  {
   "cell_type": "markdown",
   "id": "695f212a",
   "metadata": {
    "slideshow": {
     "slide_type": "slide"
    }
   },
   "source": [
    "## Vamos dialogar?\n",
    "\n",
    "* Fala só quem quer falar\n",
    "* Abre a camera só quem quer abrir\n",
    "\n",
    "> Que tal apresentar a sua(s) inquietação(ções) ou se apresentar a partir da sua(s) inquitação(ções), aquilo que te move a aprender e questionar? Ou então sobre as expecitativas com essa disciplina, com o curso, etc ...\n"
   ]
  },
  {
   "cell_type": "markdown",
   "id": "3876e4e8",
   "metadata": {
    "slideshow": {
     "slide_type": "slide"
    }
   },
   "source": [
    "## Proposta de trabalho\n",
    "\n",
    "> Faz quem quer, o que quiser e como quiser, seja individual ou em grupo\n",
    "\n",
    "* Únicas exigências:\n",
    "    * trabalho seja em mídia digital (site, post, artigo, programa, mapa digital, arquivo para download, etc ...)\n",
    "    * disponíbilizado online\n",
    "    * sob algum tipo de licensa criativa"
   ]
  },
  {
   "cell_type": "markdown",
   "id": "9cda7332",
   "metadata": {
    "slideshow": {
     "slide_type": "slide"
    }
   },
   "source": [
    "## Validação e não avaliação\n",
    "\n",
    "* Dialogar e não performar\n",
    "* Ficar sujeito a críticas, melhorias e alterações\n",
    "* Criar base de conhecimento coletiva"
   ]
  },
  {
   "cell_type": "code",
   "execution_count": null,
   "id": "c848222b",
   "metadata": {},
   "outputs": [],
   "source": []
  }
 ],
 "metadata": {
  "celltoolbar": "Slideshow",
  "kernelspec": {
   "display_name": "Python 3.8.11 64-bit ('geo': conda)",
   "language": "python",
   "name": "python3811jvsc74a57bd01e94f94c3dc9cb9ecdb50465f759d70d8afbee71b2fe12a78bdcd721d76e1ec6"
  },
  "language_info": {
   "codemirror_mode": {
    "name": "ipython",
    "version": 3
   },
   "file_extension": ".py",
   "mimetype": "text/x-python",
   "name": "python",
   "nbconvert_exporter": "python",
   "pygments_lexer": "ipython3",
   "version": "3.8.11"
  }
 },
 "nbformat": 4,
 "nbformat_minor": 5
}
