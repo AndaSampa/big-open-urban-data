{
 "cells": [
  {
   "cell_type": "markdown",
   "metadata": {
    "slideshow": {
     "slide_type": "slide"
    }
   },
   "source": [
    "# Aula 1: Smart City ou Smart Citzen, onde mora a inteligência na cidade?"
   ]
  },
  {
   "cell_type": "markdown",
   "metadata": {
    "slideshow": {
     "slide_type": "fragment"
    }
   },
   "source": [
    "> Spoiler da próxima aula: \"A cidade é .... da invenções humanas ..\", portanto inventamos a cidade, logo, se ela é inteligente ........ , ou para ela se tornar inteligente ..........\n",
    "\n",
    "* e continuamos inventando a cidade\n",
    "* a cidade do futuro já existe, ninguém vai contruir uma nova"
   ]
  },
  {
   "cell_type": "markdown",
   "metadata": {
    "slideshow": {
     "slide_type": "slide"
    }
   },
   "source": [
    "## Quem mora na cidade é _______!"
   ]
  },
  {
   "cell_type": "markdown",
   "metadata": {
    "slideshow": {
     "slide_type": "slide"
    }
   },
   "source": [
    "## Cidadania\n",
    "\n",
    "https://www.miltonsantos.com.br/site/wp-content/uploads/2011/12/As-cidadanias-mutiladas_MiltonSantos1996-1997SITE.pdf\n",
    "\n",
    "> \"E afinal a cidadania, que é o exercicio de direitos e supõe a ciência dos direitos que temos e a capacidade de reivindicar seu exercício pleno e também de reivindicar mais. Como tudo isso está ligado ao grau de consciência, voltamos, por conseguinte, à questão da individualidade.\" \n",
    "\n",
    "_Para quem quiser saber mais sobre Milton Santos https://www.brasildefato.com.br/2019/05/03/o-legado-de-milton-santos-um-novo-mundo-possivel-surgira-das-periferias_ \n"
   ]
  },
  {
   "cell_type": "markdown",
   "metadata": {
    "slideshow": {
     "slide_type": "slide"
    }
   },
   "source": [
    "## O espaço cidadão\n",
    "\n",
    " > “Em lugar do cidadão formou-se um consumidor, que aceita ser chamado de usuário”\n",
    "\n",
    " _https://edisciplinas.usp.br/pluginfile.php/4434323/mod_resource/content/1/Milton%20Santos%20-%20Espa%C3%A7o%20do%20Cidad%C3%A3o%20%28Cidadania%20Mutilada%29.pdf_"
   ]
  },
  {
   "cell_type": "markdown",
   "metadata": {
    "slideshow": {
     "slide_type": "slide"
    }
   },
   "source": [
    "## Quer que eu desenhe?\n",
    "\n",
    "* Ilustração: Fila transporte público, Fila na Loja da Apple"
   ]
  },
  {
   "cell_type": "markdown",
   "metadata": {
    "slideshow": {
     "slide_type": "slide"
    }
   },
   "source": [
    "## Mas temos outros geógrafos, antropólogos, sociólogos ...\n",
    "\n",
    "* David Harvey https://www.observatoriodasmetropoles.net.br/tag/david-harvey/\n",
    "* Darcy Ribeiro https://monitormercantil.com.br/construcao-do-estado-nacional-cidadania-consciencia-ciep/\n",
    "* Herbert de Souza (Betinho) https://cafecomsociologia.com/poder-do-cidadao-texto-de-herbet-de/\n",
    "* Henri Lefebvre\n",
    "* ...."
   ]
  },
  {
   "cell_type": "markdown",
   "metadata": {
    "slideshow": {
     "slide_type": "slide"
    }
   },
   "source": [
    "## LAI (Lei de Acesso à Informação)\n",
    "\n",
    "> A Lei nº 12.527, sancionada em 18 de novembro de 2011, regulamenta o direito constitucional de acesso dos cidadãos às informações públicas e é aplicável aos três poderes da União, dos estados, do Distrito Federal e dos municípios.\n",
    "\n",
    "_https://www.gov.br/capes/pt-br/acesso-a-informacao/servico-de-informacao-ao-cidadao/sobre-a-lei-de-acesso-a-informacao_"
   ]
  },
  {
   "cell_type": "markdown",
   "metadata": {
    "slideshow": {
     "slide_type": "slide"
    }
   },
   "source": [
    "## Dados Abertos\n",
    "\n",
    "* Art 8. Par. 3, itens II e III da LAI - https://wiki.dados.gov.br/Legislacao.ashx\n",
    "* Política de dados abertos - https://wiki.dados.gov.br/Legislacao.ashx\n",
    "* Para saber mais:\n",
    "    * https://ok.org.br/"
   ]
  },
  {
   "cell_type": "markdown",
   "metadata": {
    "slideshow": {
     "slide_type": "slide"
    }
   },
   "source": [
    "## Cidadania e Dados Abertos - Casos práticos\n",
    "\n",
    "* https://medidasp.com/genero-ruas.html\n",
    "* https://ditamapa.desvirtual.com/pt/ - Prfa. Giselle Beiguelman (FAU/USP)\n",
    "* https://urbit.com.br - Dá para ganhar dinheiro tb!\n",
    "* https://ospa.place/home - E continuar ganhando dinheiro!\n",
    "* https://piaui.folha.uol.com.br/tag/igualdades/ - Mas dá para fazer barulho tb ...\n",
    "* https://github.com/okfn-brasil/serenata-de-amor - e controlar contas da Adm. Publica"
   ]
  },
  {
   "cell_type": "markdown",
   "metadata": {
    "slideshow": {
     "slide_type": "slide"
    }
   },
   "source": [
    "## Governo Aberto\n",
    "\n",
    "* https://www.opengovpartnership.org\n",
    "* Prefeitura de São Paulo https://www.prefeitura.sp.gov.br/cidade/secretarias/governo/governo_aberto_na_cidade_de_sao_paulo/index.php?p=252984\n",
    "* Pierre Levy, filósofo - https://pt.wikipedia.org/wiki/Pierre_L%C3%A9vy\n",
    "* Ciberdemocracia - http://copyfight.tk/Acervo/livros/LE%CC%81VY,%20Pierre.%20As%20Tecnologias%20da%20Intelige%CC%82ncia.pdf"
   ]
  },
  {
   "cell_type": "markdown",
   "metadata": {
    "slideshow": {
     "slide_type": "slide"
    }
   },
   "source": [
    "## Empresas \"abertas\"\n",
    "\n",
    "* https://labs.strava.com/\n",
    "* https://developer.twitter.com/en\n",
    "* https://movement.uber.com/cities?lang=en-US\n",
    "* http://insideairbnb.com/get-the-data.html\n",
    "* https://developers.facebook.com/docs/instagram"
   ]
  },
  {
   "cell_type": "markdown",
   "metadata": {
    "slideshow": {
     "slide_type": "slide"
    }
   },
   "source": [
    "## Como mentir com mapas - O Outro Lado\n",
    "\n",
    "\n",
    "* https://openlibrary.org/books/OL1880196M/How_to_Lie_with_Maps\n",
    "* http://www.dpi.inpe.br/gilberto/infogeo/infogeo15.pdf\n",
    "* https://open.lib.umn.edu/mapping/chapter/7-lying-with-maps/\n"
   ]
  },
  {
   "cell_type": "markdown",
   "metadata": {
    "slideshow": {
     "slide_type": "slide"
    }
   },
   "source": [
    "## \"Spurious Correlations\"\n",
    "\n",
    "* Correlações Espúrias\n",
    "* https://www.jstor.org/stable/2281124"
   ]
  },
  {
   "cell_type": "markdown",
   "metadata": {
    "slideshow": {
     "slide_type": "slide"
    }
   },
   "source": [
    "## Software livre\n",
    "\n",
    "As quatro liberdades:\n",
    "* Liberdade 0: A liberdade de execução do programa para qualquer finalidade;\n",
    "* Liberdade 1: A liberdade de estudar e entender como o programa funciona, além de poder adaptá-lo de acordo com as suas necessidades. Para isso, o acesso ao código-fonte do software faz-se necessário;\n",
    "* Liberdade 2: A liberdade de redistribuir cópias com o intuito de ajudar outras pessoas;\n",
    "* Liberdade 3: A liberdade de distribuir cópias alteradas a outras pessoas. Isso permite que as demais pessoas tenham acesso ao software em sua versão melhorada, se beneficiando de suas mudanças.\n"
   ]
  },
  {
   "cell_type": "markdown",
   "metadata": {
    "slideshow": {
     "slide_type": "slide"
    }
   },
   "source": [
    "* FreeWare != Software Livre\n",
    "* FreeWare != Opensource\n",
    "* Software Livre != Software Grátis\n",
    "\n",
    "> Vamos olhar sem o viés da lógica capitalista?"
   ]
  },
  {
   "cell_type": "markdown",
   "metadata": {
    "slideshow": {
     "slide_type": "slide"
    }
   },
   "source": [
    "## Pessoas por traz da comunidade de SL\n",
    "\n",
    "* Richard Stallman - https://pt.wikipedia.org/wiki/Richard_Matthew_Stallman\n",
    "* Linus Torvalds - https://pt.wikipedia.org/wiki/Linus_Torvalds"
   ]
  },
  {
   "cell_type": "markdown",
   "metadata": {
    "slideshow": {
     "slide_type": "slide"
    }
   },
   "source": [
    "## Esse tal de GitHub\n",
    "\n",
    "> Onde a comunidade de Software Livre Acontece, o Cyber Espaço\n",
    "\n",
    "* https://github.com/"
   ]
  },
  {
   "cell_type": "markdown",
   "metadata": {
    "slideshow": {
     "slide_type": "slide"
    }
   },
   "source": [
    "## Licenças criativas\n",
    "\n",
    "* https://br.creativecommons.net/licencas/\n",
    "\n",
    "## Licenças de software\n",
    "\n",
    "* https://choosealicense.com/\n",
    "\n",
    "> Vc já leu a licença do software ou da rede social que vc usa?\n"
   ]
  },
  {
   "cell_type": "markdown",
   "metadata": {
    "slideshow": {
     "slide_type": "slide"
    }
   },
   "source": [
    "# Que tal praticar um pouco?"
   ]
  },
  {
   "cell_type": "markdown",
   "metadata": {
    "slideshow": {
     "slide_type": "fragment"
    }
   },
   "source": [
    "* http://dados.prefeitura.sp.gov.br/dataset/dados-do-sp156\n",
    "* https://github.com/geoinfo-smdu/geo-sp156\n",
    "* https://dados.gov.br\n",
    "* http://www.respeitoavida.sp.gov.br/relatorios/ (Enviado pela Denise)\n",
    "* https://www.saopaulo.sp.gov.br/tag/infosiga/ (Fora pela Lei Eleitoral)\n",
    "* https://www.saopaulo.sp.gov.br/planosp/simi/dados-abertos/ - Dados COVID-SP"
   ]
  },
  {
   "cell_type": "code",
   "execution_count": 1,
   "metadata": {},
   "outputs": [],
   "source": [
    "import pandas as pd"
   ]
  },
  {
   "cell_type": "code",
   "execution_count": null,
   "metadata": {},
   "outputs": [],
   "source": [
    "df_covid"
   ]
  },
  {
   "cell_type": "code",
   "execution_count": null,
   "metadata": {},
   "outputs": [],
   "source": []
  },
  {
   "cell_type": "code",
   "execution_count": null,
   "metadata": {},
   "outputs": [],
   "source": []
  },
  {
   "cell_type": "code",
   "execution_count": null,
   "metadata": {},
   "outputs": [],
   "source": []
  },
  {
   "cell_type": "code",
   "execution_count": null,
   "metadata": {},
   "outputs": [],
   "source": []
  },
  {
   "cell_type": "code",
   "execution_count": null,
   "metadata": {},
   "outputs": [],
   "source": []
  },
  {
   "cell_type": "code",
   "execution_count": null,
   "metadata": {},
   "outputs": [],
   "source": []
  },
  {
   "cell_type": "code",
   "execution_count": null,
   "metadata": {},
   "outputs": [],
   "source": []
  },
  {
   "cell_type": "code",
   "execution_count": null,
   "metadata": {},
   "outputs": [],
   "source": []
  },
  {
   "cell_type": "code",
   "execution_count": null,
   "metadata": {},
   "outputs": [],
   "source": []
  },
  {
   "cell_type": "code",
   "execution_count": null,
   "metadata": {},
   "outputs": [],
   "source": []
  },
  {
   "cell_type": "code",
   "execution_count": null,
   "metadata": {},
   "outputs": [],
   "source": []
  },
  {
   "cell_type": "code",
   "execution_count": null,
   "metadata": {},
   "outputs": [],
   "source": []
  },
  {
   "cell_type": "code",
   "execution_count": null,
   "metadata": {},
   "outputs": [],
   "source": []
  },
  {
   "cell_type": "code",
   "execution_count": null,
   "metadata": {},
   "outputs": [],
   "source": []
  },
  {
   "cell_type": "code",
   "execution_count": null,
   "metadata": {},
   "outputs": [],
   "source": []
  },
  {
   "cell_type": "code",
   "execution_count": null,
   "metadata": {},
   "outputs": [],
   "source": []
  },
  {
   "cell_type": "code",
   "execution_count": null,
   "metadata": {},
   "outputs": [],
   "source": []
  },
  {
   "cell_type": "code",
   "execution_count": 2,
   "metadata": {},
   "outputs": [],
   "source": [
    "# df_acidentes = pd.read_csv(\"dados/acidentes_naofatais.csv\", encoding='cp1252', sep=\";\")\n",
    "# df_casos_covid = pd.read_csv(\"dados/20220817_Casos-e-obitos-ESP.zip\", sep=\";\")"
   ]
  },
  {
   "cell_type": "code",
   "execution_count": 34,
   "metadata": {},
   "outputs": [],
   "source": [
    "# df_casos_covid.shape"
   ]
  },
  {
   "cell_type": "code",
   "execution_count": 35,
   "metadata": {},
   "outputs": [],
   "source": [
    "# df_casos_covid['Obito'].value_counts()"
   ]
  },
  {
   "cell_type": "code",
   "execution_count": 36,
   "metadata": {},
   "outputs": [],
   "source": [
    "# pd.options.display.float_format = \"{:,.2f}\".format"
   ]
  },
  {
   "cell_type": "code",
   "execution_count": 37,
   "metadata": {},
   "outputs": [],
   "source": [
    "# df_casos_covid['Obito'].value_counts()"
   ]
  },
  {
   "cell_type": "code",
   "execution_count": 38,
   "metadata": {},
   "outputs": [],
   "source": [
    "# df_casos_covid.loc[(df_casos_covid['Idade'] < 110) & df_casos_covid['Obito'] == 1, ['Idade']].hist()"
   ]
  },
  {
   "cell_type": "code",
   "execution_count": 39,
   "metadata": {},
   "outputs": [],
   "source": [
    "# pd.to_datetime(df_casos_covid['Data Inicio Sintomas'], errors='ignore', infer_datetime_format=True).hist(bins=300)"
   ]
  },
  {
   "cell_type": "code",
   "execution_count": null,
   "metadata": {},
   "outputs": [],
   "source": []
  }
 ],
 "metadata": {
  "celltoolbar": "Slideshow",
  "kernelspec": {
   "display_name": "Python 3 (ipykernel)",
   "language": "python",
   "name": "python3"
  },
  "language_info": {
   "codemirror_mode": {
    "name": "ipython",
    "version": 3
   },
   "file_extension": ".py",
   "mimetype": "text/x-python",
   "name": "python",
   "nbconvert_exporter": "python",
   "pygments_lexer": "ipython3",
   "version": "3.8.5"
  },
  "vscode": {
   "interpreter": {
    "hash": "9cedc55b3cbf3c6d99ff990673a8ddd4523edd6f7760ad30a6f7807a45845135"
   }
  }
 },
 "nbformat": 4,
 "nbformat_minor": 2
}
