{
 "cells": [
  {
   "cell_type": "markdown",
   "id": "cc7f8c09",
   "metadata": {
    "slideshow": {
     "slide_type": "slide"
    }
   },
   "source": [
    "# Aula 3: A Natureza espacial do dado\n",
    "\n",
    "> A grande maioria dos dados para urbanismo tem uma natureza espacial"
   ]
  },
  {
   "cell_type": "markdown",
   "id": "2720c3a1",
   "metadata": {
    "slideshow": {
     "slide_type": "slide"
    }
   },
   "source": [
    "## O que é o espaço?\n",
    "\n",
    "* Tema em aberto para a Geografia _https://www.revistas.usp.br/geousp/article/download/74066/77708/0_\n",
    "* Tema em aberto para Física"
   ]
  },
  {
   "cell_type": "markdown",
   "id": "7c15f8c9",
   "metadata": {
    "slideshow": {
     "slide_type": "slide"
    }
   },
   "source": [
    "## Qual a forma da Terra?\n",
    "\n",
    "\n",
    "* Indicação de documentário: https://www.netflix.com/title/81015076\n",
    "\n",
    "_https://www.g-red.eu/geoid/geoidViewer.html_"
   ]
  },
  {
   "cell_type": "markdown",
   "id": "a83a2c08",
   "metadata": {
    "slideshow": {
     "slide_type": "slide"
    }
   },
   "source": [
    "## Por que medimos a Terra?\n",
    "\n",
    "* Geo (Terra) + metria (medida)\n",
    "* Terrenos ao redor do Nilo\n",
    "* Cobrar imposto\n",
    "* Isso lembra alguma coisa? LiDAR 3D na próxima aula\n",
    "* Assunto interessante: Terra, agrigultura, propriedade, herança e patriarcado.\n",
    "* Origem das palavras estatística e Cadastro\n"
   ]
  },
  {
   "cell_type": "markdown",
   "id": "4e317425",
   "metadata": {
    "slideshow": {
     "slide_type": "slide"
    }
   },
   "source": [
    "## Mas não é apenas sobre cobrar imposto\n",
    "\n",
    "* Livro: O Mapa Fantasma: Como a luta de dois homens contra o cólera mudou o destino de nossas\n",
    "metrópoles (2008)\n",
    "* _https://www.amazon.com.br/mapa-fantasma-homens-destino-metr%C3%B3poles/dp/8537800554_ \n",
    "\n",
    "> ALERTA DE SPOILER - Contexto histórico: Higienismo, Positivismo, Eugenia\n"
   ]
  },
  {
   "cell_type": "markdown",
   "id": "4c10265c",
   "metadata": {
    "slideshow": {
     "slide_type": "slide"
    }
   },
   "source": [
    "## APenas uma curiosidade\n",
    "\n",
    "_https://en.wikipedia.org/wiki/The_Blue_Marble#/media/File:The_Earth_seen_from_Apollo_17.jpg_\n",
    "    \n",
    "* Primeira (_na verdade não foi a primeira, mas a que ficou mais conhecida_) imagem colorida da Terra inteira vista do céu, Blue Marble, 1972\n",
    "* Será que influenciou a forma como vemos a Terra?\n",
    "\n",
    "_https://en.wikipedia.org/wiki/Timeline_of_first_images_of_Earth_from_space_\n"
   ]
  },
  {
   "cell_type": "markdown",
   "id": "8167c462",
   "metadata": {
    "slideshow": {
     "slide_type": "slide"
    }
   },
   "source": [
    "## Mudanças morfológicas por imagens de satélites\n",
    "\n",
    "* Ferramenta espaço-temporal\n",
    "* Lançada pelo Google em Abril/2021\n",
    "* [Evolução da mancha urbana na cidade de São Paulo](https://earth.google.com/web/@-23.60975113,-46.39533399,884.84314066a,127494.03319582d,35y,1.75213638h,38.40559901t,0r/data=CjISMBIgNTQ0MGExNzMxYzI1MTFlYTk0NDM4YmI2ODk0NDUyOTciDG1haW5Ob1JhbmRvbQ)\n"
   ]
  },
  {
   "cell_type": "markdown",
   "id": "09580efa",
   "metadata": {
    "slideshow": {
     "slide_type": "slide"
    }
   },
   "source": [
    "## Projeções cartográficas\n",
    "\n",
    "> São técnicas para projetar a superfície da Terra, admitida como esférica ou elipsoidal, em um plano\n",
    "\n",
    "* Esferas, elipsoides e geóides não são superfícies desenvolvíveis (_https://en.wikipedia.org/wiki/Developable_surface_)\n",
    "* Algumas propriedades do modelo são preservadas:\n",
    "    * forma, direção, área, distância, rota mais curta\n",
    "\n",
    "https://www.geogebra.org/m/btfr5zww\n",
    "\n",
    "_https://en.wikipedia.org/wiki/Map_projection_"
   ]
  },
  {
   "cell_type": "markdown",
   "id": "cd2f06f7",
   "metadata": {
    "slideshow": {
     "slide_type": "slide"
    }
   },
   "source": [
    "## UTM\n",
    "\n",
    "* Universal Transversa de Mercator\n",
    "* Projeção Cilíndrica com o Eixo no Plano do Equador\n",
    "* Minimiza todas as perdas\n",
    "* Importância: Sistema de coordenadas ortogonal\n",
    "* https://www.geogebra.org/m/ttv5emkh\n",
    "* Aula Sistema UTM _https://edisciplinas.usp.br/pluginfile.php/4530334/mod_resource/content/10/PTR5003%20-%20Proje%C3%A7%C3%A3o%20UTM%20v2019.pdf?fbclid=IwAR3sIMz8GLIWCDjz16rU4aee3Zai6sfQQTL4G-rEYPodGhmaCgSQrcLPQ-I_"
   ]
  },
  {
   "cell_type": "markdown",
   "id": "34a78924",
   "metadata": {
    "slideshow": {
     "slide_type": "slide"
    }
   },
   "source": [
    "## Mais material online\n",
    "\n",
    "* https://projections.mgis.psu.edu/\n",
    "* https://projectionwizard.org/\n",
    "\n"
   ]
  },
  {
   "cell_type": "markdown",
   "id": "56c01064",
   "metadata": {
    "slideshow": {
     "slide_type": "slide"
    }
   },
   "source": [
    "## Anamorfose cartográfica\n",
    "\n",
    "> Todo mapa é político\n",
    "\n",
    "_https://educa.ibge.gov.br/professores/educa-recursos/20815-anamorfose.html_"
   ]
  },
  {
   "cell_type": "markdown",
   "id": "bd86da85",
   "metadata": {
    "slideshow": {
     "slide_type": "slide"
    }
   },
   "source": [
    "## Vamos praticar?\n",
    "\n",
    "* Que tal espacializar os acidentes INFOSIGA?"
   ]
  },
  {
   "cell_type": "code",
   "execution_count": 27,
   "id": "84bc045c",
   "metadata": {
    "slideshow": {
     "slide_type": "slide"
    }
   },
   "outputs": [],
   "source": [
    "import pandas as pd"
   ]
  },
  {
   "cell_type": "code",
   "execution_count": 28,
   "id": "01aadcb6",
   "metadata": {
    "slideshow": {
     "slide_type": "subslide"
    }
   },
   "outputs": [],
   "source": [
    "df_acidentes = pd.read_csv(\"dados/acidentes_naofatais.csv\", encoding='cp1252', sep=\";\",  decimal=',')"
   ]
  },
  {
   "cell_type": "code",
   "execution_count": 29,
   "id": "5399977c",
   "metadata": {
    "slideshow": {
     "slide_type": "slide"
    }
   },
   "outputs": [
    {
     "data": {
      "text/plain": [
       "Index(['ID', 'Data do Acidente', 'Dia do Acidente', 'Mês do Acidente',\n",
       "       'Ano do Acidente', 'Ano/Mês do Acidente', 'Dia da Semana',\n",
       "       'Hora do Acidente', 'Turno', 'Município', 'Batalhão de Trânsito',\n",
       "       'Companhia de Trânsito', 'Região Administrativa', 'Logradouro',\n",
       "       'Numero/KM', 'Jurisdição', 'Administração', 'Conservação', 'LAT_(GEO)',\n",
       "       'LONG_(GEO)', 'Condições Climáticas', 'Iluminação', 'Mão de direção',\n",
       "       'Obras na pista', 'Relevo', 'Superfície da via', 'Tipo de pavimento',\n",
       "       'Tipo de pista', 'Traçado', 'Veículos Envolvidos - Bicicleta',\n",
       "       'Veículos Envolvidos - Caminhão', 'Veículos Envolvidos - Automóvel',\n",
       "       'Veículos Envolvidos - Motocicleta', 'Veículos Envolvidos - Ônibus',\n",
       "       'Veículos Envolvidos - Pedestre', 'Pessoas Envolvidas - Grave',\n",
       "       'Pessoas Envolvidas - Ileso', 'Pessoas Envolvidas - Leve',\n",
       "       'Serviço de Atendimento - Bombeiro', 'Serviço de Atendimento - PMRV',\n",
       "       'Serviço de Atendimento - PRF',\n",
       "       'Serviço de Atendimento - Radio Patrulha',\n",
       "       'Servciço de Atendimento - CPTRAN', 'Tipo de Via',\n",
       "       'Tipo de Acidente - Atropelamento', 'Tipo de Acidente - Choque',\n",
       "       'Tipo de Acidente - Colisão',\n",
       "       'Tipo de Acidente - Outros tipos de Acidente', 'Turno + Dia de Semana'],\n",
       "      dtype='object')"
      ]
     },
     "execution_count": 29,
     "metadata": {},
     "output_type": "execute_result"
    }
   ],
   "source": [
    "df_acidentes.columns"
   ]
  },
  {
   "cell_type": "code",
   "execution_count": 57,
   "id": "00bbe0c3",
   "metadata": {
    "slideshow": {
     "slide_type": "slide"
    }
   },
   "outputs": [],
   "source": [
    "df_guarulhos = df_acidentes.loc[df_acidentes['Município'] == 'GUARULHOS', :]"
   ]
  },
  {
   "cell_type": "code",
   "execution_count": 58,
   "id": "2604db96",
   "metadata": {
    "slideshow": {
     "slide_type": "subslide"
    }
   },
   "outputs": [],
   "source": [
    "import geopandas as gpd"
   ]
  },
  {
   "cell_type": "code",
   "execution_count": 59,
   "id": "69b32d5e",
   "metadata": {
    "slideshow": {
     "slide_type": "subslide"
    }
   },
   "outputs": [],
   "source": [
    "df_guarulhos_loc = df_guarulhos[df_guarulhos['LAT_(GEO)'].notna() | df_guarulhos['LONG_(GEO)'].notna()]"
   ]
  },
  {
   "cell_type": "code",
   "execution_count": 60,
   "id": "a959cd60",
   "metadata": {
    "slideshow": {
     "slide_type": "subslide"
    }
   },
   "outputs": [],
   "source": [
    "gdf = gpd.GeoDataFrame(df_guarulhos_loc, geometry=gpd.points_from_xy(df_guarulhos_loc['LONG_(GEO)'], df_guarulhos_loc['LAT_(GEO)'], crs=\"EPSG:4326\"))"
   ]
  },
  {
   "cell_type": "code",
   "execution_count": 64,
   "id": "52a1c6a4",
   "metadata": {
    "slideshow": {
     "slide_type": "subslide"
    }
   },
   "outputs": [],
   "source": [
    "gdf.geometry.to_file('resultados/guarulhos.gpkg', driver='GPKG')"
   ]
  },
  {
   "cell_type": "code",
   "execution_count": 63,
   "id": "8571ebff",
   "metadata": {
    "slideshow": {
     "slide_type": "slide"
    }
   },
   "outputs": [
    {
     "data": {
      "text/plain": [
       "<AxesSubplot:>"
      ]
     },
     "execution_count": 63,
     "metadata": {},
     "output_type": "execute_result"
    },
    {
     "data": {
      "image/png": "[encoded data removed]",
      "text/plain": [
       "<Figure size 432x288 with 1 Axes>"
      ]
     },
     "metadata": {
      "needs_background": "light"
     },
     "output_type": "display_data"
    }
   ],
   "source": [
    "gdf.plot()"
   ]
  },
  {
   "cell_type": "code",
   "execution_count": null,
   "id": "48cadec3",
   "metadata": {},
   "outputs": [],
   "source": []
  }
 ],
 "metadata": {
  "celltoolbar": "Slideshow",
  "kernelspec": {
   "display_name": "Python 3",
   "language": "python",
   "name": "python3"
  },
  "language_info": {
   "codemirror_mode": {
    "name": "ipython",
    "version": 3
   },
   "file_extension": ".py",
   "mimetype": "text/x-python",
   "name": "python",
   "nbconvert_exporter": "python",
   "pygments_lexer": "ipython3",
   "version": "3.8.11"
  }
 },
 "nbformat": 4,
 "nbformat_minor": 5
}
