{
 "cells": [
  {
   "cell_type": "markdown",
   "source": [
    "# Aula 2: Smart City ou Smart Citzen, onde mora a inteligência na cidade?"
   ],
   "metadata": {}
  },
  {
   "cell_type": "markdown",
   "source": [
    "> Relembrando a aula anterior: \"A cidade é .... da invenções humanas ..\", portanto inventamos a cidade, logo, se ela é inteligente _____, ou para ela se tornar inteligente _____\r\n",
    "\r\n",
    "* e continuamos inventando a cidade\r\n",
    "* a cidade do futuro já existe, ninguém vai contruir uma nova"
   ],
   "metadata": {}
  },
  {
   "cell_type": "markdown",
   "source": [
    "## Quem mora na cidade é _______!"
   ],
   "metadata": {}
  },
  {
   "cell_type": "markdown",
   "source": [
    "## Cidadania\r\n",
    "\r\n",
    "https://www.miltonsantos.com.br/site/wp-content/uploads/2011/12/As-cidadanias-mutiladas_MiltonSantos1996-1997SITE.pdf\r\n",
    "\r\n",
    "> \"E afinal a cidadania, que é o exercicio de direitos e supõe a ciência dos direitos que temos e a capacidade de reivindicar seu exercício pleno e também de reivindicar mais. Como tudo isso está ligado ao grau de consciência, voltamos, por conseguinte, à questão da individualidade.\" \r\n",
    "\r\n",
    "_Para quem quiser saber mais sobre Milton Santos https://www.brasildefato.com.br/2019/05/03/o-legado-de-milton-santos-um-novo-mundo-possivel-surgira-das-periferias_ \r\n"
   ],
   "metadata": {}
  },
  {
   "cell_type": "markdown",
   "source": [
    "## O espaço cidadão\r\n",
    "\r\n",
    " > “Em lugar do cidadão formou-se um consumidor, que aceita ser chamado de usuário”\r\n",
    "\r\n",
    " _https://edisciplinas.usp.br/pluginfile.php/4434323/mod_resource/content/1/Milton%20Santos%20-%20Espa%C3%A7o%20do%20Cidad%C3%A3o%20%28Cidadania%20Mutilada%29.pdf_"
   ],
   "metadata": {}
  },
  {
   "cell_type": "markdown",
   "source": [
    "## Quer que eu desenhe?\r\n",
    "\r\n",
    "* Ilustração: Fila transporte público, Fila na Loja da Apple"
   ],
   "metadata": {}
  },
  {
   "cell_type": "markdown",
   "source": [
    "## Mas temos outros geógrafos, antropólogos, socólogos ...\r\n",
    "\r\n",
    "* David Harvey https://www.observatoriodasmetropoles.net.br/tag/david-harvey/\r\n",
    "* Darcy Ribeiro https://monitormercantil.com.br/construcao-do-estado-nacional-cidadania-consciencia-ciep/\r\n",
    "* Herbert de Souza (Betinho) https://cafecomsociologia.com/poder-do-cidadao-texto-de-herbet-de/\r\n",
    "* Henri Lefebvre\r\n",
    "* ...."
   ],
   "metadata": {}
  },
  {
   "cell_type": "markdown",
   "source": [
    "## LAI (Lei de Acesso à Informação)\r\n",
    "\r\n",
    "> A Lei nº 12.527, sancionada em 18 de novembro de 2011, regulamenta o direito constitucional de acesso dos cidadãos às informações públicas e é aplicável aos três poderes da União, dos estados, do Distrito Federal e dos municípios.\r\n",
    "\r\n",
    "_https://www.gov.br/capes/pt-br/acesso-a-informacao/servico-de-informacao-ao-cidadao/sobre-a-lei-de-acesso-a-informacao_"
   ],
   "metadata": {}
  },
  {
   "cell_type": "markdown",
   "source": [
    "## Dados Abertos\r\n",
    "\r\n",
    "* Art 8. Par. 3, itens II e III da LAI - https://wiki.dados.gov.br/Legislacao.ashx\r\n",
    "* Política de dados abertos - https://wiki.dados.gov.br/Legislacao.ashx\r\n",
    "* Para saber mais:\r\n",
    "    * https://ok.org.br/"
   ],
   "metadata": {}
  },
  {
   "cell_type": "markdown",
   "source": [
    "## Cidadania e Dados Abertos - Casos práticos\r\n",
    "\r\n",
    "* https://medidasp.com/genero-ruas.html\r\n",
    "* https://ditamapa.desvirtual.com/pt/ - Prfa. Giselle Beiguelman (FAU/USP)\r\n",
    "* https://urbit.com.br - Dá para ganhar dinheiro tb!\r\n",
    "* https://piaui.folha.uol.com.br/tag/igualdades/\r\n",
    "* https://github.com/okfn-brasil/serenata-de-amor - controle de contas da Adm. Publica"
   ],
   "metadata": {}
  },
  {
   "cell_type": "markdown",
   "source": [
    "## Governo Aberto\r\n",
    "\r\n",
    "* https://www.opengovpartnership.org\r\n",
    "* Prefeitura de São Paulo https://www.prefeitura.sp.gov.br/cidade/secretarias/governo/governo_aberto_na_cidade_de_sao_paulo/index.php?p=252984\r\n",
    "* Pierre Levy, filósofo - https://pt.wikipedia.org/wiki/Pierre_L%C3%A9vy\r\n",
    "* Ciberdemocracia - http://copyfight.tk/Acervo/livros/LE%CC%81VY,%20Pierre.%20As%20Tecnologias%20da%20Intelige%CC%82ncia.pdf"
   ],
   "metadata": {}
  },
  {
   "cell_type": "markdown",
   "source": [
    "## Empresas \"abertas\"\r\n",
    "\r\n",
    "* https://labs.strava.com/\r\n",
    "* https://developer.twitter.com/en\r\n",
    "* https://movement.uber.com/cities?lang=en-US\r\n",
    "* http://insideairbnb.com/get-the-data.html\r\n",
    "* https://developers.facebook.com/docs/instagram"
   ],
   "metadata": {}
  },
  {
   "cell_type": "markdown",
   "source": [
    "## Software livre\r\n",
    "\r\n",
    "As quatro liberdades:\r\n",
    "* Liberdade 0: A liberdade de execução do programa para qualquer finalidade;\r\n",
    "* Liberdade 1: A liberdade de estudar e entender como o programa funciona, além de poder adaptá-lo de acordo com as suas necessidades. Para isso, o acesso ao código-fonte do software faz-se necessário;\r\n",
    "* Liberdade 2: A liberdade de redistribuir cópias com o intuito de ajudar outras pessoas;\r\n",
    "* Liberdade 3: A liberdade de distribuir cópias alteradas a outras pessoas. Isso permite que as demais pessoas tenham acesso ao software em sua versão melhorada, se beneficiando de suas mudanças.\r\n"
   ],
   "metadata": {}
  },
  {
   "cell_type": "markdown",
   "source": [
    "* FreeWare != Software Livre\r\n",
    "* FreeWare != Opensource\r\n",
    "* Software Livre != Software Grátis\r\n",
    "\r\n",
    "> Vamos olhar sem o viés da lógica capitalista?"
   ],
   "metadata": {}
  },
  {
   "cell_type": "markdown",
   "source": [
    "## Pessoas por traz da comunidade de SL\r\n",
    "\r\n",
    "* Richard Stallman - https://pt.wikipedia.org/wiki/Richard_Matthew_Stallman\r\n",
    "* Linus Torvalds - https://pt.wikipedia.org/wiki/Linus_Torvalds"
   ],
   "metadata": {}
  },
  {
   "cell_type": "markdown",
   "source": [
    "## Esse tal de GitHub\r\n",
    "\r\n",
    "> Onde a comunidade de Software Livre Acontece, o Cyber Espaço\r\n",
    "\r\n",
    "* https://github.com/"
   ],
   "metadata": {}
  },
  {
   "cell_type": "markdown",
   "source": [
    "## Licenças criativas\r\n",
    "\r\n",
    "* https://br.creativecommons.net/licencas/\r\n",
    "\r\n",
    "## Licenças de software\r\n",
    "\r\n",
    "* https://choosealicense.com/\r\n",
    "\r\n",
    "> Vc já leu a licença do software ou da rede social que vc usa?\r\n"
   ],
   "metadata": {}
  },
  {
   "cell_type": "markdown",
   "source": [
    "# Que tal praticar um pouco?"
   ],
   "metadata": {}
  },
  {
   "cell_type": "markdown",
   "source": [
    "* dados.prefeitura.sp.gov.br/dataset/dados-do-sp156\r\n",
    "* https://github.com/geoinfo-smdu/geo-sp156"
   ],
   "metadata": {}
  },
  {
   "cell_type": "markdown",
   "source": [],
   "metadata": {}
  }
 ],
 "metadata": {
  "orig_nbformat": 4,
  "language_info": {
   "name": "python",
   "version": "3.8.10"
  },
  "kernelspec": {
   "name": "python3",
   "display_name": "Python 3.8.10 64-bit ('geo': conda)"
  },
  "interpreter": {
   "hash": "908a4c48a1c4924d969e586c0e1fa750734cfa9d48271eb93a402166d0f979f7"
  }
 },
 "nbformat": 4,
 "nbformat_minor": 2
}