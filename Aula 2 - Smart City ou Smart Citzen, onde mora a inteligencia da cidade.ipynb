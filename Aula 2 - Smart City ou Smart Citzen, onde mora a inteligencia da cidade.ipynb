{
 "cells": [
  {
   "cell_type": "markdown",
   "metadata": {
    "slideshow": {
     "slide_type": "slide"
    }
   },
   "source": [
    "# Aula 2: Smart City ou Smart Citzen, onde mora a inteligência na cidade?"
   ]
  },
  {
   "cell_type": "markdown",
   "metadata": {
    "slideshow": {
     "slide_type": "fragment"
    }
   },
   "source": [
    "> Relembrando a aula anterior: \"A cidade é .... da invenções humanas ..\", portanto inventamos a cidade, logo, se ela é inteligente ........ , ou para ela se tornar inteligente ..........\n",
    "\n",
    "* e continuamos inventando a cidade\n",
    "* a cidade do futuro já existe, ninguém vai contruir uma nova"
   ]
  },
  {
   "cell_type": "markdown",
   "metadata": {
    "slideshow": {
     "slide_type": "slide"
    }
   },
   "source": [
    "## Quem mora na cidade é _______!"
   ]
  },
  {
   "cell_type": "markdown",
   "metadata": {
    "slideshow": {
     "slide_type": "slide"
    }
   },
   "source": [
    "## Cidadania\n",
    "\n",
    "https://www.miltonsantos.com.br/site/wp-content/uploads/2011/12/As-cidadanias-mutiladas_MiltonSantos1996-1997SITE.pdf\n",
    "\n",
    "> \"E afinal a cidadania, que é o exercicio de direitos e supõe a ciência dos direitos que temos e a capacidade de reivindicar seu exercício pleno e também de reivindicar mais. Como tudo isso está ligado ao grau de consciência, voltamos, por conseguinte, à questão da individualidade.\" \n",
    "\n",
    "_Para quem quiser saber mais sobre Milton Santos https://www.brasildefato.com.br/2019/05/03/o-legado-de-milton-santos-um-novo-mundo-possivel-surgira-das-periferias_ \n"
   ]
  },
  {
   "cell_type": "markdown",
   "metadata": {
    "slideshow": {
     "slide_type": "slide"
    }
   },
   "source": [
    "## O espaço cidadão\n",
    "\n",
    " > “Em lugar do cidadão formou-se um consumidor, que aceita ser chamado de usuário”\n",
    "\n",
    " _https://edisciplinas.usp.br/pluginfile.php/4434323/mod_resource/content/1/Milton%20Santos%20-%20Espa%C3%A7o%20do%20Cidad%C3%A3o%20%28Cidadania%20Mutilada%29.pdf_"
   ]
  },
  {
   "cell_type": "markdown",
   "metadata": {
    "slideshow": {
     "slide_type": "slide"
    }
   },
   "source": [
    "## Quer que eu desenhe?\n",
    "\n",
    "* Ilustração: Fila transporte público, Fila na Loja da Apple"
   ]
  },
  {
   "cell_type": "markdown",
   "metadata": {
    "slideshow": {
     "slide_type": "slide"
    }
   },
   "source": [
    "## Mas temos outros geógrafos, antropólogos, sociólogos ...\n",
    "\n",
    "* David Harvey https://www.observatoriodasmetropoles.net.br/tag/david-harvey/\n",
    "* Darcy Ribeiro https://monitormercantil.com.br/construcao-do-estado-nacional-cidadania-consciencia-ciep/\n",
    "* Herbert de Souza (Betinho) https://cafecomsociologia.com/poder-do-cidadao-texto-de-herbet-de/\n",
    "* Henri Lefebvre\n",
    "* ...."
   ]
  },
  {
   "cell_type": "markdown",
   "metadata": {
    "slideshow": {
     "slide_type": "slide"
    }
   },
   "source": [
    "## LAI (Lei de Acesso à Informação)\n",
    "\n",
    "> A Lei nº 12.527, sancionada em 18 de novembro de 2011, regulamenta o direito constitucional de acesso dos cidadãos às informações públicas e é aplicável aos três poderes da União, dos estados, do Distrito Federal e dos municípios.\n",
    "\n",
    "_https://www.gov.br/capes/pt-br/acesso-a-informacao/servico-de-informacao-ao-cidadao/sobre-a-lei-de-acesso-a-informacao_"
   ]
  },
  {
   "cell_type": "markdown",
   "metadata": {
    "slideshow": {
     "slide_type": "slide"
    }
   },
   "source": [
    "## Dados Abertos\n",
    "\n",
    "* Art 8. Par. 3, itens II e III da LAI - https://wiki.dados.gov.br/Legislacao.ashx\n",
    "* Política de dados abertos - https://wiki.dados.gov.br/Legislacao.ashx\n",
    "* Para saber mais:\n",
    "    * https://ok.org.br/"
   ]
  },
  {
   "cell_type": "markdown",
   "metadata": {
    "slideshow": {
     "slide_type": "slide"
    }
   },
   "source": [
    "## Cidadania e Dados Abertos - Casos práticos\n",
    "\n",
    "* https://medidasp.com/genero-ruas.html\n",
    "* https://ditamapa.desvirtual.com/pt/ - Prfa. Giselle Beiguelman (FAU/USP)\n",
    "* https://urbit.com.br - Dá para ganhar dinheiro tb!\n",
    "* https://piaui.folha.uol.com.br/tag/igualdades/\n",
    "* https://github.com/okfn-brasil/serenata-de-amor - controle de contas da Adm. Publica"
   ]
  },
  {
   "cell_type": "markdown",
   "metadata": {
    "slideshow": {
     "slide_type": "slide"
    }
   },
   "source": [
    "## Governo Aberto\n",
    "\n",
    "* https://www.opengovpartnership.org\n",
    "* Prefeitura de São Paulo https://www.prefeitura.sp.gov.br/cidade/secretarias/governo/governo_aberto_na_cidade_de_sao_paulo/index.php?p=252984\n",
    "* Pierre Levy, filósofo - https://pt.wikipedia.org/wiki/Pierre_L%C3%A9vy\n",
    "* Ciberdemocracia - http://copyfight.tk/Acervo/livros/LE%CC%81VY,%20Pierre.%20As%20Tecnologias%20da%20Intelige%CC%82ncia.pdf"
   ]
  },
  {
   "cell_type": "markdown",
   "metadata": {
    "slideshow": {
     "slide_type": "slide"
    }
   },
   "source": [
    "## Empresas \"abertas\"\n",
    "\n",
    "* https://labs.strava.com/\n",
    "* https://developer.twitter.com/en\n",
    "* https://movement.uber.com/cities?lang=en-US\n",
    "* http://insideairbnb.com/get-the-data.html\n",
    "* https://developers.facebook.com/docs/instagram"
   ]
  },
  {
   "cell_type": "markdown",
   "metadata": {
    "slideshow": {
     "slide_type": "slide"
    }
   },
   "source": [
    "## Software livre\n",
    "\n",
    "As quatro liberdades:\n",
    "* Liberdade 0: A liberdade de execução do programa para qualquer finalidade;\n",
    "* Liberdade 1: A liberdade de estudar e entender como o programa funciona, além de poder adaptá-lo de acordo com as suas necessidades. Para isso, o acesso ao código-fonte do software faz-se necessário;\n",
    "* Liberdade 2: A liberdade de redistribuir cópias com o intuito de ajudar outras pessoas;\n",
    "* Liberdade 3: A liberdade de distribuir cópias alteradas a outras pessoas. Isso permite que as demais pessoas tenham acesso ao software em sua versão melhorada, se beneficiando de suas mudanças.\n"
   ]
  },
  {
   "cell_type": "markdown",
   "metadata": {
    "slideshow": {
     "slide_type": "slide"
    }
   },
   "source": [
    "* FreeWare != Software Livre\n",
    "* FreeWare != Opensource\n",
    "* Software Livre != Software Grátis\n",
    "\n",
    "> Vamos olhar sem o viés da lógica capitalista?"
   ]
  },
  {
   "cell_type": "markdown",
   "metadata": {
    "slideshow": {
     "slide_type": "slide"
    }
   },
   "source": [
    "## Pessoas por traz da comunidade de SL\n",
    "\n",
    "* Richard Stallman - https://pt.wikipedia.org/wiki/Richard_Matthew_Stallman\n",
    "* Linus Torvalds - https://pt.wikipedia.org/wiki/Linus_Torvalds"
   ]
  },
  {
   "cell_type": "markdown",
   "metadata": {
    "slideshow": {
     "slide_type": "slide"
    }
   },
   "source": [
    "## Esse tal de GitHub\n",
    "\n",
    "> Onde a comunidade de Software Livre Acontece, o Cyber Espaço\n",
    "\n",
    "* https://github.com/"
   ]
  },
  {
   "cell_type": "markdown",
   "metadata": {
    "slideshow": {
     "slide_type": "slide"
    }
   },
   "source": [
    "## Licenças criativas\n",
    "\n",
    "* https://br.creativecommons.net/licencas/\n",
    "\n",
    "## Licenças de software\n",
    "\n",
    "* https://choosealicense.com/\n",
    "\n",
    "> Vc já leu a licença do software ou da rede social que vc usa?\n"
   ]
  },
  {
   "cell_type": "markdown",
   "metadata": {
    "slideshow": {
     "slide_type": "slide"
    }
   },
   "source": [
    "# Que tal praticar um pouco?"
   ]
  },
  {
   "cell_type": "markdown",
   "metadata": {
    "slideshow": {
     "slide_type": "fragment"
    }
   },
   "source": [
    "* http://dados.prefeitura.sp.gov.br/dataset/dados-do-sp156\n",
    "* https://github.com/geoinfo-smdu/geo-sp156\n",
    "* http://www.respeitoavida.sp.gov.br/relatorios/ (Enviado pela Denise)"
   ]
  },
  {
   "cell_type": "code",
   "execution_count": 1,
   "metadata": {},
   "outputs": [],
   "source": [
    "import pandas as pd"
   ]
  },
  {
   "cell_type": "code",
   "execution_count": 7,
   "metadata": {},
   "outputs": [],
   "source": [
    "df_acidentes = pd.read_csv(\"dados/acidentes_naofatais.csv\", encoding='cp1252', sep=\";\")"
   ]
  },
  {
   "cell_type": "code",
   "execution_count": 11,
   "metadata": {},
   "outputs": [
    {
     "data": {
      "text/plain": [
       "Index(['ID', 'Data do Acidente', 'Dia do Acidente', 'Mês do Acidente',\n",
       "       'Ano do Acidente', 'Ano/Mês do Acidente', 'Dia da Semana',\n",
       "       'Hora do Acidente', 'Turno', 'Município', 'Batalhão de Trânsito',\n",
       "       'Companhia de Trânsito', 'Região Administrativa', 'Logradouro',\n",
       "       'Numero/KM', 'Jurisdição', 'Administração', 'Conservação', 'LAT_(GEO)',\n",
       "       'LONG_(GEO)', 'Condições Climáticas', 'Iluminação', 'Mão de direção',\n",
       "       'Obras na pista', 'Relevo', 'Superfície da via', 'Tipo de pavimento',\n",
       "       'Tipo de pista', 'Traçado', 'Veículos Envolvidos - Bicicleta',\n",
       "       'Veículos Envolvidos - Caminhão', 'Veículos Envolvidos - Automóvel',\n",
       "       'Veículos Envolvidos - Motocicleta', 'Veículos Envolvidos - Ônibus',\n",
       "       'Veículos Envolvidos - Pedestre', 'Pessoas Envolvidas - Grave',\n",
       "       'Pessoas Envolvidas - Ileso', 'Pessoas Envolvidas - Leve',\n",
       "       'Serviço de Atendimento - Bombeiro', 'Serviço de Atendimento - PMRV',\n",
       "       'Serviço de Atendimento - PRF',\n",
       "       'Serviço de Atendimento - Radio Patrulha',\n",
       "       'Servciço de Atendimento - CPTRAN', 'Tipo de Via',\n",
       "       'Tipo de Acidente - Atropelamento', 'Tipo de Acidente - Choque',\n",
       "       'Tipo de Acidente - Colisão',\n",
       "       'Tipo de Acidente - Outros tipos de Acidente', 'Turno + Dia de Semana'],\n",
       "      dtype='object')"
      ]
     },
     "execution_count": 11,
     "metadata": {},
     "output_type": "execute_result"
    }
   ],
   "source": [
    "df_acidentes.columns"
   ]
  },
  {
   "cell_type": "code",
   "execution_count": 19,
   "metadata": {},
   "outputs": [
    {
     "data": {
      "text/plain": [
       "2019    183863\n",
       "2020    166615\n",
       "2021    116618\n",
       "Name: Ano do Acidente, dtype: int64"
      ]
     },
     "execution_count": 19,
     "metadata": {},
     "output_type": "execute_result"
    }
   ],
   "source": [
    "df_acidentes['Ano do Acidente'].value_counts()"
   ]
  },
  {
   "cell_type": "code",
   "execution_count": 33,
   "metadata": {},
   "outputs": [
    {
     "data": {
      "text/plain": [
       "<AxesSubplot:>"
      ]
     },
     "execution_count": 33,
     "metadata": {},
     "output_type": "execute_result"
    },
    {
     "data": {
      "image/png": "[encoded data removed]",
      "text/plain": [
       "<Figure size 432x288 with 1 Axes>"
      ]
     },
     "metadata": {
      "needs_background": "light"
     },
     "output_type": "display_data"
    }
   ],
   "source": [
    "df_acidentes['Turno'].astype(str).hist()"
   ]
  },
  {
   "cell_type": "code",
   "execution_count": 34,
   "metadata": {},
   "outputs": [
    {
     "data": {
      "text/plain": [
       "SAO PAULO                107108\n",
       "GUARULHOS                 13257\n",
       "CAMPINAS                  10521\n",
       "RIBEIRAO PRETO            10155\n",
       "SAO JOSE DO RIO PRETO      9833\n",
       "                          ...  \n",
       "BORA                          5\n",
       "BARAO DE ANTONINA             4\n",
       "DIRCE REIS                    4\n",
       "ARAPEI                        4\n",
       "NOVA CASTILHO                 1\n",
       "Name: Município, Length: 645, dtype: int64"
      ]
     },
     "execution_count": 34,
     "metadata": {},
     "output_type": "execute_result"
    }
   ],
   "source": [
    "df_acidentes['Município'].value_counts()"
   ]
  },
  {
   "cell_type": "code",
   "execution_count": 35,
   "metadata": {},
   "outputs": [
    {
     "data": {
      "text/html": [
       "<div>\n",
       "<style scoped>\n",
       "    .dataframe tbody tr th:only-of-type {\n",
       "        vertical-align: middle;\n",
       "    }\n",
       "\n",
       "    .dataframe tbody tr th {\n",
       "        vertical-align: top;\n",
       "    }\n",
       "\n",
       "    .dataframe thead th {\n",
       "        text-align: right;\n",
       "    }\n",
       "</style>\n",
       "<table border=\"1\" class=\"dataframe\">\n",
       "  <thead>\n",
       "    <tr style=\"text-align: right;\">\n",
       "      <th></th>\n",
       "      <th>ID</th>\n",
       "      <th>Data do Acidente</th>\n",
       "      <th>Dia do Acidente</th>\n",
       "      <th>Mês do Acidente</th>\n",
       "      <th>Ano do Acidente</th>\n",
       "      <th>Ano/Mês do Acidente</th>\n",
       "      <th>Dia da Semana</th>\n",
       "      <th>Hora do Acidente</th>\n",
       "      <th>Turno</th>\n",
       "      <th>Município</th>\n",
       "      <th>...</th>\n",
       "      <th>Serviço de Atendimento - PMRV</th>\n",
       "      <th>Serviço de Atendimento - PRF</th>\n",
       "      <th>Serviço de Atendimento - Radio Patrulha</th>\n",
       "      <th>Servciço de Atendimento - CPTRAN</th>\n",
       "      <th>Tipo de Via</th>\n",
       "      <th>Tipo de Acidente - Atropelamento</th>\n",
       "      <th>Tipo de Acidente - Choque</th>\n",
       "      <th>Tipo de Acidente - Colisão</th>\n",
       "      <th>Tipo de Acidente - Outros tipos de Acidente</th>\n",
       "      <th>Turno + Dia de Semana</th>\n",
       "    </tr>\n",
       "  </thead>\n",
       "  <tbody>\n",
       "    <tr>\n",
       "      <th>1</th>\n",
       "      <td>1878460</td>\n",
       "      <td>2021-08-31</td>\n",
       "      <td>31</td>\n",
       "      <td>AGOSTO</td>\n",
       "      <td>2021</td>\n",
       "      <td>2021.08</td>\n",
       "      <td>TERÇA</td>\n",
       "      <td>07:01</td>\n",
       "      <td>MANHA</td>\n",
       "      <td>GUARULHOS</td>\n",
       "      <td>...</td>\n",
       "      <td>NÃO</td>\n",
       "      <td>NÃO</td>\n",
       "      <td>SIM</td>\n",
       "      <td>NÃO</td>\n",
       "      <td>Vias Municipais</td>\n",
       "      <td>0</td>\n",
       "      <td>0</td>\n",
       "      <td>1</td>\n",
       "      <td>0</td>\n",
       "      <td>MANHA DE TERÇA</td>\n",
       "    </tr>\n",
       "    <tr>\n",
       "      <th>15</th>\n",
       "      <td>1877984</td>\n",
       "      <td>2021-08-31</td>\n",
       "      <td>31</td>\n",
       "      <td>AGOSTO</td>\n",
       "      <td>2021</td>\n",
       "      <td>2021.08</td>\n",
       "      <td>TERÇA</td>\n",
       "      <td>16:12</td>\n",
       "      <td>TARDE</td>\n",
       "      <td>GUARULHOS</td>\n",
       "      <td>...</td>\n",
       "      <td>NÃO</td>\n",
       "      <td>NÃO</td>\n",
       "      <td>NÃO</td>\n",
       "      <td>NÃO</td>\n",
       "      <td>Rodovias</td>\n",
       "      <td>0</td>\n",
       "      <td>0</td>\n",
       "      <td>0</td>\n",
       "      <td>0</td>\n",
       "      <td>TARDE DE TERÇA</td>\n",
       "    </tr>\n",
       "    <tr>\n",
       "      <th>203</th>\n",
       "      <td>1897083</td>\n",
       "      <td>2021-08-31</td>\n",
       "      <td>31</td>\n",
       "      <td>AGOSTO</td>\n",
       "      <td>2021</td>\n",
       "      <td>2021.08</td>\n",
       "      <td>TERÇA</td>\n",
       "      <td>15:50</td>\n",
       "      <td>TARDE</td>\n",
       "      <td>GUARULHOS</td>\n",
       "      <td>...</td>\n",
       "      <td>NÃO</td>\n",
       "      <td>SIM</td>\n",
       "      <td>NÃO</td>\n",
       "      <td>NÃO</td>\n",
       "      <td>Rodovias</td>\n",
       "      <td>0</td>\n",
       "      <td>0</td>\n",
       "      <td>1</td>\n",
       "      <td>1</td>\n",
       "      <td>TARDE DE TERÇA</td>\n",
       "    </tr>\n",
       "    <tr>\n",
       "      <th>206</th>\n",
       "      <td>1897092</td>\n",
       "      <td>2021-08-31</td>\n",
       "      <td>31</td>\n",
       "      <td>AGOSTO</td>\n",
       "      <td>2021</td>\n",
       "      <td>2021.08</td>\n",
       "      <td>TERÇA</td>\n",
       "      <td>22:53</td>\n",
       "      <td>NOITE</td>\n",
       "      <td>GUARULHOS</td>\n",
       "      <td>...</td>\n",
       "      <td>NÃO</td>\n",
       "      <td>SIM</td>\n",
       "      <td>NÃO</td>\n",
       "      <td>NÃO</td>\n",
       "      <td>Rodovias</td>\n",
       "      <td>0</td>\n",
       "      <td>0</td>\n",
       "      <td>0</td>\n",
       "      <td>0</td>\n",
       "      <td>NOITE DE TERÇA</td>\n",
       "    </tr>\n",
       "    <tr>\n",
       "      <th>211</th>\n",
       "      <td>1903595</td>\n",
       "      <td>2021-08-31</td>\n",
       "      <td>31</td>\n",
       "      <td>AGOSTO</td>\n",
       "      <td>2021</td>\n",
       "      <td>2021.08</td>\n",
       "      <td>TERÇA</td>\n",
       "      <td>10:07</td>\n",
       "      <td>MANHA</td>\n",
       "      <td>GUARULHOS</td>\n",
       "      <td>...</td>\n",
       "      <td>NÃO</td>\n",
       "      <td>NÃO</td>\n",
       "      <td>NÃO</td>\n",
       "      <td>NÃO</td>\n",
       "      <td>Vias Municipais</td>\n",
       "      <td>0</td>\n",
       "      <td>0</td>\n",
       "      <td>0</td>\n",
       "      <td>0</td>\n",
       "      <td>MANHA DE TERÇA</td>\n",
       "    </tr>\n",
       "    <tr>\n",
       "      <th>...</th>\n",
       "      <td>...</td>\n",
       "      <td>...</td>\n",
       "      <td>...</td>\n",
       "      <td>...</td>\n",
       "      <td>...</td>\n",
       "      <td>...</td>\n",
       "      <td>...</td>\n",
       "      <td>...</td>\n",
       "      <td>...</td>\n",
       "      <td>...</td>\n",
       "      <td>...</td>\n",
       "      <td>...</td>\n",
       "      <td>...</td>\n",
       "      <td>...</td>\n",
       "      <td>...</td>\n",
       "      <td>...</td>\n",
       "      <td>...</td>\n",
       "      <td>...</td>\n",
       "      <td>...</td>\n",
       "      <td>...</td>\n",
       "      <td>...</td>\n",
       "    </tr>\n",
       "    <tr>\n",
       "      <th>467015</th>\n",
       "      <td>906984</td>\n",
       "      <td>2019-01-01</td>\n",
       "      <td>1</td>\n",
       "      <td>JANEIRO</td>\n",
       "      <td>2019</td>\n",
       "      <td>2019.01</td>\n",
       "      <td>TERÇA</td>\n",
       "      <td>01:18</td>\n",
       "      <td>MADRUGADA</td>\n",
       "      <td>GUARULHOS</td>\n",
       "      <td>...</td>\n",
       "      <td>NÃO</td>\n",
       "      <td>NÃO</td>\n",
       "      <td>NÃO</td>\n",
       "      <td>NÃO</td>\n",
       "      <td>Rodovias</td>\n",
       "      <td>0</td>\n",
       "      <td>0</td>\n",
       "      <td>0</td>\n",
       "      <td>0</td>\n",
       "      <td>MADRUGADA DE TERÇA</td>\n",
       "    </tr>\n",
       "    <tr>\n",
       "      <th>467060</th>\n",
       "      <td>906956</td>\n",
       "      <td>2019-01-01</td>\n",
       "      <td>1</td>\n",
       "      <td>JANEIRO</td>\n",
       "      <td>2019</td>\n",
       "      <td>2019.01</td>\n",
       "      <td>TERÇA</td>\n",
       "      <td>03:08</td>\n",
       "      <td>MADRUGADA</td>\n",
       "      <td>GUARULHOS</td>\n",
       "      <td>...</td>\n",
       "      <td>NÃO</td>\n",
       "      <td>NÃO</td>\n",
       "      <td>NÃO</td>\n",
       "      <td>NÃO</td>\n",
       "      <td>Vias Municipais</td>\n",
       "      <td>0</td>\n",
       "      <td>0</td>\n",
       "      <td>0</td>\n",
       "      <td>0</td>\n",
       "      <td>MADRUGADA DE TERÇA</td>\n",
       "    </tr>\n",
       "    <tr>\n",
       "      <th>467064</th>\n",
       "      <td>907016</td>\n",
       "      <td>2019-01-01</td>\n",
       "      <td>1</td>\n",
       "      <td>JANEIRO</td>\n",
       "      <td>2019</td>\n",
       "      <td>2019.01</td>\n",
       "      <td>TERÇA</td>\n",
       "      <td>13:38</td>\n",
       "      <td>TARDE</td>\n",
       "      <td>GUARULHOS</td>\n",
       "      <td>...</td>\n",
       "      <td>NÃO</td>\n",
       "      <td>NÃO</td>\n",
       "      <td>NÃO</td>\n",
       "      <td>NÃO</td>\n",
       "      <td>Rodovias</td>\n",
       "      <td>0</td>\n",
       "      <td>0</td>\n",
       "      <td>0</td>\n",
       "      <td>0</td>\n",
       "      <td>TARDE DE TERÇA</td>\n",
       "    </tr>\n",
       "    <tr>\n",
       "      <th>467071</th>\n",
       "      <td>907055</td>\n",
       "      <td>2019-01-01</td>\n",
       "      <td>1</td>\n",
       "      <td>JANEIRO</td>\n",
       "      <td>2019</td>\n",
       "      <td>2019.01</td>\n",
       "      <td>TERÇA</td>\n",
       "      <td>21:39</td>\n",
       "      <td>NOITE</td>\n",
       "      <td>GUARULHOS</td>\n",
       "      <td>...</td>\n",
       "      <td>NÃO</td>\n",
       "      <td>NÃO</td>\n",
       "      <td>NÃO</td>\n",
       "      <td>NÃO</td>\n",
       "      <td>Vias Municipais</td>\n",
       "      <td>0</td>\n",
       "      <td>0</td>\n",
       "      <td>0</td>\n",
       "      <td>0</td>\n",
       "      <td>NOITE DE TERÇA</td>\n",
       "    </tr>\n",
       "    <tr>\n",
       "      <th>467081</th>\n",
       "      <td>907092</td>\n",
       "      <td>2019-01-01</td>\n",
       "      <td>1</td>\n",
       "      <td>JANEIRO</td>\n",
       "      <td>2019</td>\n",
       "      <td>2019.01</td>\n",
       "      <td>TERÇA</td>\n",
       "      <td>18:57</td>\n",
       "      <td>NOITE</td>\n",
       "      <td>GUARULHOS</td>\n",
       "      <td>...</td>\n",
       "      <td>NÃO</td>\n",
       "      <td>NÃO</td>\n",
       "      <td>NÃO</td>\n",
       "      <td>NÃO</td>\n",
       "      <td>Vias Municipais</td>\n",
       "      <td>0</td>\n",
       "      <td>0</td>\n",
       "      <td>0</td>\n",
       "      <td>0</td>\n",
       "      <td>NOITE DE TERÇA</td>\n",
       "    </tr>\n",
       "  </tbody>\n",
       "</table>\n",
       "<p>13257 rows × 49 columns</p>\n",
       "</div>"
      ],
      "text/plain": [
       "             ID Data do Acidente  Dia do Acidente Mês do Acidente  \\\n",
       "1       1878460       2021-08-31               31          AGOSTO   \n",
       "15      1877984       2021-08-31               31          AGOSTO   \n",
       "203     1897083       2021-08-31               31          AGOSTO   \n",
       "206     1897092       2021-08-31               31          AGOSTO   \n",
       "211     1903595       2021-08-31               31          AGOSTO   \n",
       "...         ...              ...              ...             ...   \n",
       "467015   906984       2019-01-01                1         JANEIRO   \n",
       "467060   906956       2019-01-01                1         JANEIRO   \n",
       "467064   907016       2019-01-01                1         JANEIRO   \n",
       "467071   907055       2019-01-01                1         JANEIRO   \n",
       "467081   907092       2019-01-01                1         JANEIRO   \n",
       "\n",
       "        Ano do Acidente  Ano/Mês do Acidente Dia da Semana Hora do Acidente  \\\n",
       "1                  2021              2021.08         TERÇA            07:01   \n",
       "15                 2021              2021.08         TERÇA            16:12   \n",
       "203                2021              2021.08         TERÇA            15:50   \n",
       "206                2021              2021.08         TERÇA            22:53   \n",
       "211                2021              2021.08         TERÇA            10:07   \n",
       "...                 ...                  ...           ...              ...   \n",
       "467015             2019              2019.01         TERÇA            01:18   \n",
       "467060             2019              2019.01         TERÇA            03:08   \n",
       "467064             2019              2019.01         TERÇA            13:38   \n",
       "467071             2019              2019.01         TERÇA            21:39   \n",
       "467081             2019              2019.01         TERÇA            18:57   \n",
       "\n",
       "            Turno  Município  ... Serviço de Atendimento - PMRV  \\\n",
       "1           MANHA  GUARULHOS  ...                           NÃO   \n",
       "15          TARDE  GUARULHOS  ...                           NÃO   \n",
       "203         TARDE  GUARULHOS  ...                           NÃO   \n",
       "206         NOITE  GUARULHOS  ...                           NÃO   \n",
       "211         MANHA  GUARULHOS  ...                           NÃO   \n",
       "...           ...        ...  ...                           ...   \n",
       "467015  MADRUGADA  GUARULHOS  ...                           NÃO   \n",
       "467060  MADRUGADA  GUARULHOS  ...                           NÃO   \n",
       "467064      TARDE  GUARULHOS  ...                           NÃO   \n",
       "467071      NOITE  GUARULHOS  ...                           NÃO   \n",
       "467081      NOITE  GUARULHOS  ...                           NÃO   \n",
       "\n",
       "       Serviço de Atendimento - PRF Serviço de Atendimento - Radio Patrulha  \\\n",
       "1                               NÃO                                     SIM   \n",
       "15                              NÃO                                     NÃO   \n",
       "203                             SIM                                     NÃO   \n",
       "206                             SIM                                     NÃO   \n",
       "211                             NÃO                                     NÃO   \n",
       "...                             ...                                     ...   \n",
       "467015                          NÃO                                     NÃO   \n",
       "467060                          NÃO                                     NÃO   \n",
       "467064                          NÃO                                     NÃO   \n",
       "467071                          NÃO                                     NÃO   \n",
       "467081                          NÃO                                     NÃO   \n",
       "\n",
       "       Servciço de Atendimento - CPTRAN      Tipo de Via  \\\n",
       "1                                   NÃO  Vias Municipais   \n",
       "15                                  NÃO         Rodovias   \n",
       "203                                 NÃO         Rodovias   \n",
       "206                                 NÃO         Rodovias   \n",
       "211                                 NÃO  Vias Municipais   \n",
       "...                                 ...              ...   \n",
       "467015                              NÃO         Rodovias   \n",
       "467060                              NÃO  Vias Municipais   \n",
       "467064                              NÃO         Rodovias   \n",
       "467071                              NÃO  Vias Municipais   \n",
       "467081                              NÃO  Vias Municipais   \n",
       "\n",
       "       Tipo de Acidente - Atropelamento Tipo de Acidente - Choque  \\\n",
       "1                                     0                         0   \n",
       "15                                    0                         0   \n",
       "203                                   0                         0   \n",
       "206                                   0                         0   \n",
       "211                                   0                         0   \n",
       "...                                 ...                       ...   \n",
       "467015                                0                         0   \n",
       "467060                                0                         0   \n",
       "467064                                0                         0   \n",
       "467071                                0                         0   \n",
       "467081                                0                         0   \n",
       "\n",
       "       Tipo de Acidente - Colisão Tipo de Acidente - Outros tipos de Acidente  \\\n",
       "1                               1                                           0   \n",
       "15                              0                                           0   \n",
       "203                             1                                           1   \n",
       "206                             0                                           0   \n",
       "211                             0                                           0   \n",
       "...                           ...                                         ...   \n",
       "467015                          0                                           0   \n",
       "467060                          0                                           0   \n",
       "467064                          0                                           0   \n",
       "467071                          0                                           0   \n",
       "467081                          0                                           0   \n",
       "\n",
       "       Turno + Dia de Semana  \n",
       "1             MANHA DE TERÇA  \n",
       "15            TARDE DE TERÇA  \n",
       "203           TARDE DE TERÇA  \n",
       "206           NOITE DE TERÇA  \n",
       "211           MANHA DE TERÇA  \n",
       "...                      ...  \n",
       "467015    MADRUGADA DE TERÇA  \n",
       "467060    MADRUGADA DE TERÇA  \n",
       "467064        TARDE DE TERÇA  \n",
       "467071        NOITE DE TERÇA  \n",
       "467081        NOITE DE TERÇA  \n",
       "\n",
       "[13257 rows x 49 columns]"
      ]
     },
     "execution_count": 35,
     "metadata": {},
     "output_type": "execute_result"
    }
   ],
   "source": [
    "df_acidentes[df_acidentes['Município'] == \"GUARULHOS\"]"
   ]
  },
  {
   "cell_type": "code",
   "execution_count": 40,
   "metadata": {},
   "outputs": [
    {
     "data": {
      "text/html": [
       "<div>\n",
       "<style scoped>\n",
       "    .dataframe tbody tr th:only-of-type {\n",
       "        vertical-align: middle;\n",
       "    }\n",
       "\n",
       "    .dataframe tbody tr th {\n",
       "        vertical-align: top;\n",
       "    }\n",
       "\n",
       "    .dataframe thead th {\n",
       "        text-align: right;\n",
       "    }\n",
       "</style>\n",
       "<table border=\"1\" class=\"dataframe\">\n",
       "  <thead>\n",
       "    <tr style=\"text-align: right;\">\n",
       "      <th></th>\n",
       "      <th>LAT_(GEO)</th>\n",
       "      <th>LONG_(GEO)</th>\n",
       "    </tr>\n",
       "  </thead>\n",
       "  <tbody>\n",
       "    <tr>\n",
       "      <th>0</th>\n",
       "      <td>-20,512088827</td>\n",
       "      <td>-47,385248546</td>\n",
       "    </tr>\n",
       "    <tr>\n",
       "      <th>1</th>\n",
       "      <td>-23,452269736</td>\n",
       "      <td>-46,474724234</td>\n",
       "    </tr>\n",
       "    <tr>\n",
       "      <th>2</th>\n",
       "      <td>NaN</td>\n",
       "      <td>NaN</td>\n",
       "    </tr>\n",
       "    <tr>\n",
       "      <th>3</th>\n",
       "      <td>-20,5165800229714</td>\n",
       "      <td>-47,4133219208857</td>\n",
       "    </tr>\n",
       "    <tr>\n",
       "      <th>4</th>\n",
       "      <td>-21,0435119724842</td>\n",
       "      <td>-49,6818260096159</td>\n",
       "    </tr>\n",
       "    <tr>\n",
       "      <th>...</th>\n",
       "      <td>...</td>\n",
       "      <td>...</td>\n",
       "    </tr>\n",
       "    <tr>\n",
       "      <th>467091</th>\n",
       "      <td>-23,75</td>\n",
       "      <td>-46,6976</td>\n",
       "    </tr>\n",
       "    <tr>\n",
       "      <th>467092</th>\n",
       "      <td>-23,6449</td>\n",
       "      <td>-46,6719</td>\n",
       "    </tr>\n",
       "    <tr>\n",
       "      <th>467093</th>\n",
       "      <td>-23,4553</td>\n",
       "      <td>-46,5776</td>\n",
       "    </tr>\n",
       "    <tr>\n",
       "      <th>467094</th>\n",
       "      <td>-23,4503345968</td>\n",
       "      <td>-46,6521888768</td>\n",
       "    </tr>\n",
       "    <tr>\n",
       "      <th>467095</th>\n",
       "      <td>-23,4366</td>\n",
       "      <td>-46,7372</td>\n",
       "    </tr>\n",
       "  </tbody>\n",
       "</table>\n",
       "<p>467096 rows × 2 columns</p>\n",
       "</div>"
      ],
      "text/plain": [
       "                LAT_(GEO)         LONG_(GEO)\n",
       "0           -20,512088827      -47,385248546\n",
       "1           -23,452269736      -46,474724234\n",
       "2                     NaN                NaN\n",
       "3       -20,5165800229714  -47,4133219208857\n",
       "4       -21,0435119724842  -49,6818260096159\n",
       "...                   ...                ...\n",
       "467091             -23,75           -46,6976\n",
       "467092           -23,6449           -46,6719\n",
       "467093           -23,4553           -46,5776\n",
       "467094     -23,4503345968     -46,6521888768\n",
       "467095           -23,4366           -46,7372\n",
       "\n",
       "[467096 rows x 2 columns]"
      ]
     },
     "execution_count": 40,
     "metadata": {},
     "output_type": "execute_result"
    }
   ],
   "source": [
    "df_acidentes.loc[:, ['LAT_(GEO)', 'LONG_(GEO)']]"
   ]
  },
  {
   "cell_type": "markdown",
   "metadata": {
    "slideshow": {
     "slide_type": "slide"
    }
   },
   "source": [
    "## Como mentir com mapas?\n",
    "\n",
    "* https://openlibrary.org/books/OL1880196M/How_to_Lie_with_Maps\n",
    "* http://www.dpi.inpe.br/gilberto/infogeo/infogeo15.pdf\n",
    "* https://open.lib.umn.edu/mapping/chapter/7-lying-with-maps/"
   ]
  },
  {
   "cell_type": "code",
   "execution_count": null,
   "metadata": {},
   "outputs": [],
   "source": []
  }
 ],
 "metadata": {
  "celltoolbar": "Slideshow",
  "interpreter": {
   "hash": "908a4c48a1c4924d969e586c0e1fa750734cfa9d48271eb93a402166d0f979f7"
  },
  "kernelspec": {
   "display_name": "Python 3",
   "language": "python",
   "name": "python3"
  },
  "language_info": {
   "codemirror_mode": {
    "name": "ipython",
    "version": 3
   },
   "file_extension": ".py",
   "mimetype": "text/x-python",
   "name": "python",
   "nbconvert_exporter": "python",
   "pygments_lexer": "ipython3",
   "version": "3.8.11"
  }
 },
 "nbformat": 4,
 "nbformat_minor": 2
}
