{
 "cells": [
  {
   "cell_type": "markdown",
   "source": [
    "# Aula 2: Smart City ou Smart Citzen, onde mora a inteligência na cidade?"
   ],
   "metadata": {}
  },
  {
   "cell_type": "markdown",
   "source": [
    "> Relembrando a aula anterior: \"A cidade é .... da invenções humanas ..\", portanto inventamos a cidade, logo, se ela é inteligente _____, ou para ela se tornar inteligente _____\r\n",
    "\r\n",
    "* e continuamos inventando a cidade\r\n",
    "* a cidade do futuro já existe, ninguém vai contruir uma nova"
   ],
   "metadata": {}
  },
  {
   "cell_type": "markdown",
   "source": [
    "## Quem mora na cidade é _______!"
   ],
   "metadata": {}
  },
  {
   "cell_type": "markdown",
   "source": [
    "## Cidadania\r\n",
    "\r\n",
    "https://www.miltonsantos.com.br/site/wp-content/uploads/2011/12/As-cidadanias-mutiladas_MiltonSantos1996-1997SITE.pdf\r\n",
    "\r\n",
    "> \"E afinal a cidadania, que é o exercicio de direitos e supõe a ciência dos direitos que temos e a capacidade de reivindicar seu exercício pleno e também de reivindicar mais. Como tudo isso está ligado ao grau de consciência, voltamos, por conseguinte, à questão da individualidade.\" \r\n",
    "\r\n",
    "_Para quem quiser saber mais sobre Milton Santos https://www.brasildefato.com.br/2019/05/03/o-legado-de-milton-santos-um-novo-mundo-possivel-surgira-das-periferias_ \r\n"
   ],
   "metadata": {}
  },
  {
   "cell_type": "markdown",
   "source": [
    "## O espaço cidadão\r\n",
    "\r\n",
    " > “Em lugar do cidadão formou-se um consumidor, que aceita ser chamado de usuário”\r\n",
    "\r\n",
    " _https://edisciplinas.usp.br/pluginfile.php/4434323/mod_resource/content/1/Milton%20Santos%20-%20Espa%C3%A7o%20do%20Cidad%C3%A3o%20%28Cidadania%20Mutilada%29.pdf_"
   ],
   "metadata": {}
  },
  {
   "cell_type": "markdown",
   "source": [
    "## Mas temos outros gógrafos, antropólogos, socólogos ...\r\n",
    "\r\n",
    "* David Harvey https://www.observatoriodasmetropoles.net.br/tag/david-harvey/\r\n",
    "* Darcy Ribeiro https://monitormercantil.com.br/construcao-do-estado-nacional-cidadania-consciencia-ciep/\r\n",
    "* Herbert de Souza (Betinho) https://cafecomsociologia.com/poder-do-cidadao-texto-de-herbet-de/\r\n",
    "* Henri Lefebvre\r\n",
    "* ...."
   ],
   "metadata": {}
  },
  {
   "cell_type": "markdown",
   "source": [
    "## LAI (Lei de Acesso à Informação)"
   ],
   "metadata": {}
  },
  {
   "cell_type": "markdown",
   "source": [
    "## Dados Abertos"
   ],
   "metadata": {}
  },
  {
   "cell_type": "markdown",
   "source": [
    "## Governo Aberto"
   ],
   "metadata": {}
  },
  {
   "cell_type": "markdown",
   "source": [
    "## Software livre"
   ],
   "metadata": {}
  },
  {
   "cell_type": "markdown",
   "source": [],
   "metadata": {}
  }
 ],
 "metadata": {
  "orig_nbformat": 4,
  "language_info": {
   "name": "python"
  }
 },
 "nbformat": 4,
 "nbformat_minor": 2
}